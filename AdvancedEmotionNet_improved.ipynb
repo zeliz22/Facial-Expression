{
  "nbformat": 4,
  "nbformat_minor": 0,
  "metadata": {
    "colab": {
      "provenance": [],
      "gpuType": "T4",
      "authorship_tag": "ABX9TyODmGwn/hOdPwjcIb3IQ+XA",
      "include_colab_link": true
    },
    "kernelspec": {
      "name": "python3",
      "display_name": "Python 3"
    },
    "language_info": {
      "name": "python"
    },
    "accelerator": "GPU"
  },
  "cells": [
    {
      "cell_type": "markdown",
      "metadata": {
        "id": "view-in-github",
        "colab_type": "text"
      },
      "source": [
        "<a href=\"https://colab.research.google.com/github/zeliz22/Facial-Expression/blob/main/AdvancedEmotionNet_improved.ipynb\" target=\"_parent\"><img src=\"https://colab.research.google.com/assets/colab-badge.svg\" alt=\"Open In Colab\"/></a>"
      ]
    },
    {
      "cell_type": "code",
      "execution_count": 1,
      "metadata": {
        "colab": {
          "base_uri": "https://localhost:8080/"
        },
        "collapsed": true,
        "id": "a0iel-Cc1Mtd",
        "outputId": "a43982c5-c16a-4ca2-cde7-66b1c30aaca3"
      },
      "outputs": [
        {
          "output_type": "stream",
          "name": "stdout",
          "text": [
            "Requirement already satisfied: kaggle in /usr/local/lib/python3.11/dist-packages (1.7.4.5)\n",
            "Requirement already satisfied: bleach in /usr/local/lib/python3.11/dist-packages (from kaggle) (6.2.0)\n",
            "Requirement already satisfied: certifi>=14.05.14 in /usr/local/lib/python3.11/dist-packages (from kaggle) (2025.4.26)\n",
            "Requirement already satisfied: charset-normalizer in /usr/local/lib/python3.11/dist-packages (from kaggle) (3.4.2)\n",
            "Requirement already satisfied: idna in /usr/local/lib/python3.11/dist-packages (from kaggle) (3.10)\n",
            "Requirement already satisfied: protobuf in /usr/local/lib/python3.11/dist-packages (from kaggle) (5.29.5)\n",
            "Requirement already satisfied: python-dateutil>=2.5.3 in /usr/local/lib/python3.11/dist-packages (from kaggle) (2.9.0.post0)\n",
            "Requirement already satisfied: python-slugify in /usr/local/lib/python3.11/dist-packages (from kaggle) (8.0.4)\n",
            "Requirement already satisfied: requests in /usr/local/lib/python3.11/dist-packages (from kaggle) (2.32.3)\n",
            "Requirement already satisfied: setuptools>=21.0.0 in /usr/local/lib/python3.11/dist-packages (from kaggle) (75.2.0)\n",
            "Requirement already satisfied: six>=1.10 in /usr/local/lib/python3.11/dist-packages (from kaggle) (1.17.0)\n",
            "Requirement already satisfied: text-unidecode in /usr/local/lib/python3.11/dist-packages (from kaggle) (1.3)\n",
            "Requirement already satisfied: tqdm in /usr/local/lib/python3.11/dist-packages (from kaggle) (4.67.1)\n",
            "Requirement already satisfied: urllib3>=1.15.1 in /usr/local/lib/python3.11/dist-packages (from kaggle) (2.4.0)\n",
            "Requirement already satisfied: webencodings in /usr/local/lib/python3.11/dist-packages (from kaggle) (0.5.1)\n",
            "Requirement already satisfied: wandb in /usr/local/lib/python3.11/dist-packages (0.19.11)\n",
            "Requirement already satisfied: click!=8.0.0,>=7.1 in /usr/local/lib/python3.11/dist-packages (from wandb) (8.2.1)\n",
            "Requirement already satisfied: docker-pycreds>=0.4.0 in /usr/local/lib/python3.11/dist-packages (from wandb) (0.4.0)\n",
            "Requirement already satisfied: gitpython!=3.1.29,>=1.0.0 in /usr/local/lib/python3.11/dist-packages (from wandb) (3.1.44)\n",
            "Requirement already satisfied: platformdirs in /usr/local/lib/python3.11/dist-packages (from wandb) (4.3.8)\n",
            "Requirement already satisfied: protobuf!=4.21.0,!=5.28.0,<7,>=3.19.0 in /usr/local/lib/python3.11/dist-packages (from wandb) (5.29.5)\n",
            "Requirement already satisfied: psutil>=5.0.0 in /usr/local/lib/python3.11/dist-packages (from wandb) (5.9.5)\n",
            "Requirement already satisfied: pydantic<3 in /usr/local/lib/python3.11/dist-packages (from wandb) (2.11.5)\n",
            "Requirement already satisfied: pyyaml in /usr/local/lib/python3.11/dist-packages (from wandb) (6.0.2)\n",
            "Requirement already satisfied: requests<3,>=2.0.0 in /usr/local/lib/python3.11/dist-packages (from wandb) (2.32.3)\n",
            "Requirement already satisfied: sentry-sdk>=2.0.0 in /usr/local/lib/python3.11/dist-packages (from wandb) (2.29.1)\n",
            "Requirement already satisfied: setproctitle in /usr/local/lib/python3.11/dist-packages (from wandb) (1.3.6)\n",
            "Requirement already satisfied: setuptools in /usr/local/lib/python3.11/dist-packages (from wandb) (75.2.0)\n",
            "Requirement already satisfied: typing-extensions<5,>=4.4 in /usr/local/lib/python3.11/dist-packages (from wandb) (4.14.0)\n",
            "Requirement already satisfied: six>=1.4.0 in /usr/local/lib/python3.11/dist-packages (from docker-pycreds>=0.4.0->wandb) (1.17.0)\n",
            "Requirement already satisfied: gitdb<5,>=4.0.1 in /usr/local/lib/python3.11/dist-packages (from gitpython!=3.1.29,>=1.0.0->wandb) (4.0.12)\n",
            "Requirement already satisfied: annotated-types>=0.6.0 in /usr/local/lib/python3.11/dist-packages (from pydantic<3->wandb) (0.7.0)\n",
            "Requirement already satisfied: pydantic-core==2.33.2 in /usr/local/lib/python3.11/dist-packages (from pydantic<3->wandb) (2.33.2)\n",
            "Requirement already satisfied: typing-inspection>=0.4.0 in /usr/local/lib/python3.11/dist-packages (from pydantic<3->wandb) (0.4.1)\n",
            "Requirement already satisfied: charset-normalizer<4,>=2 in /usr/local/lib/python3.11/dist-packages (from requests<3,>=2.0.0->wandb) (3.4.2)\n",
            "Requirement already satisfied: idna<4,>=2.5 in /usr/local/lib/python3.11/dist-packages (from requests<3,>=2.0.0->wandb) (3.10)\n",
            "Requirement already satisfied: urllib3<3,>=1.21.1 in /usr/local/lib/python3.11/dist-packages (from requests<3,>=2.0.0->wandb) (2.4.0)\n",
            "Requirement already satisfied: certifi>=2017.4.17 in /usr/local/lib/python3.11/dist-packages (from requests<3,>=2.0.0->wandb) (2025.4.26)\n",
            "Requirement already satisfied: smmap<6,>=3.0.1 in /usr/local/lib/python3.11/dist-packages (from gitdb<5,>=4.0.1->gitpython!=3.1.29,>=1.0.0->wandb) (5.0.2)\n",
            "\u001b[34m\u001b[1mwandb\u001b[0m: \u001b[33mWARNING\u001b[0m Using legacy-service, which is deprecated. If this is unintentional, you can fix it by ensuring you do not call `wandb.require('legacy-service')` and do not set the WANDB_X_REQUIRE_LEGACY_SERVICE environment variable.\n",
            "\u001b[34m\u001b[1mwandb\u001b[0m: Logging into wandb.ai. (Learn how to deploy a W&B server locally: https://wandb.me/wandb-server)\n",
            "\u001b[34m\u001b[1mwandb\u001b[0m: You can find your API key in your browser here: https://wandb.ai/authorize?ref=models\n",
            "\u001b[34m\u001b[1mwandb\u001b[0m: Paste an API key from your profile and hit enter, or press ctrl+c to quit: \n",
            "\u001b[34m\u001b[1mwandb\u001b[0m: No netrc file found, creating one.\n",
            "\u001b[34m\u001b[1mwandb\u001b[0m: Appending key for api.wandb.ai to your netrc file: /root/.netrc\n",
            "\u001b[34m\u001b[1mwandb\u001b[0m: Currently logged in as: \u001b[33mzeliz22\u001b[0m (\u001b[33mzeliz22-free-university-of-tbilisi-\u001b[0m) to \u001b[32mhttps://api.wandb.ai\u001b[0m. Use \u001b[1m`wandb login --relogin`\u001b[0m to force relogin\n"
          ]
        }
      ],
      "source": [
        "!  pip install kaggle\n",
        "! pip install wandb\n",
        "!wandb login"
      ]
    },
    {
      "cell_type": "code",
      "execution_count": 2,
      "metadata": {
        "colab": {
          "base_uri": "https://localhost:8080/"
        },
        "id": "3e2bb02b",
        "outputId": "7cf6e2f2-52b3-4ded-90b2-636d2a0295fc"
      },
      "outputs": [
        {
          "output_type": "stream",
          "name": "stdout",
          "text": [
            "Mounted at /content/drive\n"
          ]
        }
      ],
      "source": [
        "from google.colab import drive\n",
        "drive.mount('/content/drive')"
      ]
    },
    {
      "cell_type": "code",
      "source": [
        "from google.colab import files\n",
        "files.upload()\n",
        "\n"
      ],
      "metadata": {
        "colab": {
          "base_uri": "https://localhost:8080/",
          "height": 89
        },
        "id": "ss7rnxiH11Qm",
        "outputId": "c41b527f-254f-45ab-e68c-f3c668b657b9"
      },
      "execution_count": 3,
      "outputs": [
        {
          "output_type": "display_data",
          "data": {
            "text/plain": [
              "<IPython.core.display.HTML object>"
            ],
            "text/html": [
              "\n",
              "     <input type=\"file\" id=\"files-e9302017-4036-4f62-9e9b-aa4b53524444\" name=\"files[]\" multiple disabled\n",
              "        style=\"border:none\" />\n",
              "     <output id=\"result-e9302017-4036-4f62-9e9b-aa4b53524444\">\n",
              "      Upload widget is only available when the cell has been executed in the\n",
              "      current browser session. Please rerun this cell to enable.\n",
              "      </output>\n",
              "      <script>// Copyright 2017 Google LLC\n",
              "//\n",
              "// Licensed under the Apache License, Version 2.0 (the \"License\");\n",
              "// you may not use this file except in compliance with the License.\n",
              "// You may obtain a copy of the License at\n",
              "//\n",
              "//      http://www.apache.org/licenses/LICENSE-2.0\n",
              "//\n",
              "// Unless required by applicable law or agreed to in writing, software\n",
              "// distributed under the License is distributed on an \"AS IS\" BASIS,\n",
              "// WITHOUT WARRANTIES OR CONDITIONS OF ANY KIND, either express or implied.\n",
              "// See the License for the specific language governing permissions and\n",
              "// limitations under the License.\n",
              "\n",
              "/**\n",
              " * @fileoverview Helpers for google.colab Python module.\n",
              " */\n",
              "(function(scope) {\n",
              "function span(text, styleAttributes = {}) {\n",
              "  const element = document.createElement('span');\n",
              "  element.textContent = text;\n",
              "  for (const key of Object.keys(styleAttributes)) {\n",
              "    element.style[key] = styleAttributes[key];\n",
              "  }\n",
              "  return element;\n",
              "}\n",
              "\n",
              "// Max number of bytes which will be uploaded at a time.\n",
              "const MAX_PAYLOAD_SIZE = 100 * 1024;\n",
              "\n",
              "function _uploadFiles(inputId, outputId) {\n",
              "  const steps = uploadFilesStep(inputId, outputId);\n",
              "  const outputElement = document.getElementById(outputId);\n",
              "  // Cache steps on the outputElement to make it available for the next call\n",
              "  // to uploadFilesContinue from Python.\n",
              "  outputElement.steps = steps;\n",
              "\n",
              "  return _uploadFilesContinue(outputId);\n",
              "}\n",
              "\n",
              "// This is roughly an async generator (not supported in the browser yet),\n",
              "// where there are multiple asynchronous steps and the Python side is going\n",
              "// to poll for completion of each step.\n",
              "// This uses a Promise to block the python side on completion of each step,\n",
              "// then passes the result of the previous step as the input to the next step.\n",
              "function _uploadFilesContinue(outputId) {\n",
              "  const outputElement = document.getElementById(outputId);\n",
              "  const steps = outputElement.steps;\n",
              "\n",
              "  const next = steps.next(outputElement.lastPromiseValue);\n",
              "  return Promise.resolve(next.value.promise).then((value) => {\n",
              "    // Cache the last promise value to make it available to the next\n",
              "    // step of the generator.\n",
              "    outputElement.lastPromiseValue = value;\n",
              "    return next.value.response;\n",
              "  });\n",
              "}\n",
              "\n",
              "/**\n",
              " * Generator function which is called between each async step of the upload\n",
              " * process.\n",
              " * @param {string} inputId Element ID of the input file picker element.\n",
              " * @param {string} outputId Element ID of the output display.\n",
              " * @return {!Iterable<!Object>} Iterable of next steps.\n",
              " */\n",
              "function* uploadFilesStep(inputId, outputId) {\n",
              "  const inputElement = document.getElementById(inputId);\n",
              "  inputElement.disabled = false;\n",
              "\n",
              "  const outputElement = document.getElementById(outputId);\n",
              "  outputElement.innerHTML = '';\n",
              "\n",
              "  const pickedPromise = new Promise((resolve) => {\n",
              "    inputElement.addEventListener('change', (e) => {\n",
              "      resolve(e.target.files);\n",
              "    });\n",
              "  });\n",
              "\n",
              "  const cancel = document.createElement('button');\n",
              "  inputElement.parentElement.appendChild(cancel);\n",
              "  cancel.textContent = 'Cancel upload';\n",
              "  const cancelPromise = new Promise((resolve) => {\n",
              "    cancel.onclick = () => {\n",
              "      resolve(null);\n",
              "    };\n",
              "  });\n",
              "\n",
              "  // Wait for the user to pick the files.\n",
              "  const files = yield {\n",
              "    promise: Promise.race([pickedPromise, cancelPromise]),\n",
              "    response: {\n",
              "      action: 'starting',\n",
              "    }\n",
              "  };\n",
              "\n",
              "  cancel.remove();\n",
              "\n",
              "  // Disable the input element since further picks are not allowed.\n",
              "  inputElement.disabled = true;\n",
              "\n",
              "  if (!files) {\n",
              "    return {\n",
              "      response: {\n",
              "        action: 'complete',\n",
              "      }\n",
              "    };\n",
              "  }\n",
              "\n",
              "  for (const file of files) {\n",
              "    const li = document.createElement('li');\n",
              "    li.append(span(file.name, {fontWeight: 'bold'}));\n",
              "    li.append(span(\n",
              "        `(${file.type || 'n/a'}) - ${file.size} bytes, ` +\n",
              "        `last modified: ${\n",
              "            file.lastModifiedDate ? file.lastModifiedDate.toLocaleDateString() :\n",
              "                                    'n/a'} - `));\n",
              "    const percent = span('0% done');\n",
              "    li.appendChild(percent);\n",
              "\n",
              "    outputElement.appendChild(li);\n",
              "\n",
              "    const fileDataPromise = new Promise((resolve) => {\n",
              "      const reader = new FileReader();\n",
              "      reader.onload = (e) => {\n",
              "        resolve(e.target.result);\n",
              "      };\n",
              "      reader.readAsArrayBuffer(file);\n",
              "    });\n",
              "    // Wait for the data to be ready.\n",
              "    let fileData = yield {\n",
              "      promise: fileDataPromise,\n",
              "      response: {\n",
              "        action: 'continue',\n",
              "      }\n",
              "    };\n",
              "\n",
              "    // Use a chunked sending to avoid message size limits. See b/62115660.\n",
              "    let position = 0;\n",
              "    do {\n",
              "      const length = Math.min(fileData.byteLength - position, MAX_PAYLOAD_SIZE);\n",
              "      const chunk = new Uint8Array(fileData, position, length);\n",
              "      position += length;\n",
              "\n",
              "      const base64 = btoa(String.fromCharCode.apply(null, chunk));\n",
              "      yield {\n",
              "        response: {\n",
              "          action: 'append',\n",
              "          file: file.name,\n",
              "          data: base64,\n",
              "        },\n",
              "      };\n",
              "\n",
              "      let percentDone = fileData.byteLength === 0 ?\n",
              "          100 :\n",
              "          Math.round((position / fileData.byteLength) * 100);\n",
              "      percent.textContent = `${percentDone}% done`;\n",
              "\n",
              "    } while (position < fileData.byteLength);\n",
              "  }\n",
              "\n",
              "  // All done.\n",
              "  yield {\n",
              "    response: {\n",
              "      action: 'complete',\n",
              "    }\n",
              "  };\n",
              "}\n",
              "\n",
              "scope.google = scope.google || {};\n",
              "scope.google.colab = scope.google.colab || {};\n",
              "scope.google.colab._files = {\n",
              "  _uploadFiles,\n",
              "  _uploadFilesContinue,\n",
              "};\n",
              "})(self);\n",
              "</script> "
            ]
          },
          "metadata": {}
        },
        {
          "output_type": "stream",
          "name": "stdout",
          "text": [
            "Saving kaggle.json to kaggle.json\n"
          ]
        },
        {
          "output_type": "execute_result",
          "data": {
            "text/plain": [
              "{'kaggle.json': b'{\"username\":\"zazaelizbarashvili\",\"key\":\"3422f18d69545d5f43297b0e7bfb79f8\"}'}"
            ]
          },
          "metadata": {},
          "execution_count": 3
        }
      ]
    },
    {
      "cell_type": "code",
      "source": [
        "!mkdir -p ~/.kaggle\n",
        "!cp kaggle.json ~/.kaggle/\n",
        "!chmod 600 ~/.kaggle/kaggle.json\n",
        "!kaggle competitions download -c challenges-in-representation-learning-facial-expression-recognition-challenge\n",
        "!unzip challenges-in-representation-learning-facial-expression-recognition-challenge.zip\n"
      ],
      "metadata": {
        "colab": {
          "base_uri": "https://localhost:8080/"
        },
        "collapsed": true,
        "id": "_qjXp76Q16HJ",
        "outputId": "032895be-91dd-4ecf-de53-0b228b68167a"
      },
      "execution_count": 4,
      "outputs": [
        {
          "output_type": "stream",
          "name": "stdout",
          "text": [
            "Downloading challenges-in-representation-learning-facial-expression-recognition-challenge.zip to /content\n",
            " 99% 283M/285M [00:00<00:00, 391MB/s]\n",
            "100% 285M/285M [00:00<00:00, 405MB/s]\n",
            "Archive:  challenges-in-representation-learning-facial-expression-recognition-challenge.zip\n",
            "  inflating: example_submission.csv  \n",
            "  inflating: fer2013.tar.gz          \n",
            "  inflating: icml_face_data.csv      \n",
            "  inflating: test.csv                \n",
            "  inflating: train.csv               \n"
          ]
        }
      ]
    },
    {
      "cell_type": "code",
      "source": [
        "# Cell 1: Setup and Data Loading\n",
        "import torch\n",
        "import torch.nn as nn\n",
        "import torch.optim as optim\n",
        "import torch.nn.functional as F\n",
        "from torch.utils.data import Dataset, DataLoader\n",
        "import pandas as pd\n",
        "import numpy as np\n",
        "import matplotlib.pyplot as plt\n",
        "from sklearn.model_selection import train_test_split\n",
        "from sklearn.metrics import accuracy_score, classification_report, confusion_matrix\n",
        "import seaborn as sns\n",
        "from tqdm import tqdm\n",
        "import warnings\n",
        "warnings.filterwarnings('ignore')\n",
        "\n",
        "# Set device\n",
        "device = torch.device('cuda' if torch.cuda.is_available() else 'cpu')\n",
        "print(f'Using device: {device}')\n",
        "\n",
        "# Load the data\n",
        "train_df = pd.read_csv('/content/train.csv')\n",
        "test_df = pd.read_csv('/content/test.csv')\n",
        "\n",
        "print(f\"Training data shape: {train_df.shape}\")\n",
        "print(f\"Test data shape: {test_df.shape}\")\n",
        "print(f\"Unique emotions: {sorted(train_df['emotion'].unique())}\")\n",
        "\n",
        "# Check class distribution\n",
        "emotion_counts = train_df['emotion'].value_counts().sort_index()\n",
        "emotion_labels = ['Angry', 'Disgust', 'Fear', 'Happy', 'Sad', 'Surprise', 'Neutral']\n",
        "print(\"\\nEmotion distribution:\")\n",
        "for i, count in emotion_counts.items():\n",
        "    print(f\"{i} ({emotion_labels[i]}): {count}\")\n",
        "\n",
        "# Visualize class distribution\n",
        "plt.figure(figsize=(10, 6))\n",
        "plt.bar(range(7), emotion_counts.values)\n",
        "plt.xticks(range(7), emotion_labels, rotation=45)\n",
        "plt.title('Distribution of Emotions in Training Data')\n",
        "plt.ylabel('Count')\n",
        "plt.show()"
      ],
      "metadata": {
        "colab": {
          "base_uri": "https://localhost:8080/",
          "height": 807
        },
        "collapsed": true,
        "id": "uhH0LneE2KP4",
        "outputId": "05ee2b80-c3b1-477c-91f1-2f053d3e4d6d"
      },
      "execution_count": 16,
      "outputs": [
        {
          "output_type": "stream",
          "name": "stdout",
          "text": [
            "Using device: cuda\n",
            "Training data shape: (28709, 2)\n",
            "Test data shape: (7178, 1)\n",
            "Unique emotions: [np.int64(0), np.int64(1), np.int64(2), np.int64(3), np.int64(4), np.int64(5), np.int64(6)]\n",
            "\n",
            "Emotion distribution:\n",
            "0 (Angry): 3995\n",
            "1 (Disgust): 436\n",
            "2 (Fear): 4097\n",
            "3 (Happy): 7215\n",
            "4 (Sad): 4830\n",
            "5 (Surprise): 3171\n",
            "6 (Neutral): 4965\n"
          ]
        },
        {
          "output_type": "display_data",
          "data": {
            "text/plain": [
              "<Figure size 1000x600 with 1 Axes>"
            ],
            "image/png": "[encoded data removed]"
          },
          "metadata": {}
        }
      ]
    },
    {
      "cell_type": "code",
      "source": [
        "# Cell 2: Custom Dataset and Data Transformation\n",
        "from torchvision import transforms\n",
        "from PIL import Image # Import PIL Image for torchvision transforms\n",
        "\n",
        "class FacialExpressionDataset(Dataset):\n",
        "    def __init__(self, df, transform=None):\n",
        "        self.df = df\n",
        "        self.transform = transform\n",
        "        self.pixels = df['pixels'].apply(lambda x: np.array(x.split(' '), dtype=np.uint8).reshape(48, 48)).tolist()\n",
        "        self.emotions = df['emotion'].tolist() if 'emotion' in df.columns else None\n",
        "\n",
        "    def __len__(self):\n",
        "        return len(self.df)\n",
        "\n",
        "    def __getitem__(self, idx):\n",
        "        image = self.pixels[idx]\n",
        "        image = Image.fromarray(image) # Convert numpy array to PIL Image for torchvision transforms\n",
        "\n",
        "        if self.transform:\n",
        "            image = self.transform(image)\n",
        "\n",
        "        if self.emotions is not None:\n",
        "            emotion = self.emotions[idx]\n",
        "            return image, torch.tensor(emotion, dtype=torch.long)\n",
        "        else:\n",
        "            return image\n",
        "\n",
        "class TestTimeAugmentationDataset(Dataset):\n",
        "    def __init__(self, df, transforms_list):\n",
        "        self.df = df\n",
        "        self.transforms_list = transforms_list\n",
        "        self.pixels = df['pixels'].apply(lambda x: np.array(x.split(' '), dtype=np.uint8).reshape(48, 48)).tolist()\n",
        "        self.emotions = df['emotion'].tolist() if 'emotion' in df.columns else None\n",
        "\n",
        "    def __len__(self):\n",
        "        return len(self.df)\n",
        "\n",
        "    def __getitem__(self, idx):\n",
        "        image = self.pixels[idx]\n",
        "        image = Image.fromarray(image)\n",
        "\n",
        "        # Apply each transform in the list\n",
        "        transformed_images = [t(image) for t in self.transforms_list]\n",
        "\n",
        "        if self.emotions is not None:\n",
        "            emotion = self.emotions[idx]\n",
        "            return transformed_images, torch.tensor(emotion, dtype=torch.long)\n",
        "        else:\n",
        "            return transformed_images\n",
        "\n",
        "\n",
        "# Define transformations\n",
        "# Training transforms with augmentation\n",
        "train_transforms = transforms.Compose([\n",
        "    transforms.RandomRotation(15), # Increased rotation slightly\n",
        "    transforms.RandomHorizontalFlip(),\n",
        "    transforms.RandomAffine(degrees=0, translate=(0.15, 0.15), scale=(0.85, 1.15)), # Slightly increased affine range\n",
        "    transforms.ColorJitter(brightness=0.1, contrast=0.1), # Added color jitter\n",
        "    transforms.Grayscale(num_output_channels=1), # Ensure grayscale\n",
        "    transforms.ToTensor(),\n",
        "    transforms.Normalize(mean=[0.5], std=[0.5]) # Normalize pixel values to [-1, 1]\n",
        "])\n",
        "\n",
        "# Base transform for validation/test (no augmentation, just normalization)\n",
        "base_val_test_transform = transforms.Compose([\n",
        "    transforms.Grayscale(num_output_channels=1),\n",
        "    transforms.ToTensor(),\n",
        "    transforms.Normalize(mean=[0.5], std=[0.5])\n",
        "])\n",
        "\n",
        "# Test-Time Augmentation transforms (a list of transforms for TTA)\n",
        "tta_transforms = [\n",
        "    base_val_test_transform, # Original\n",
        "    transforms.Compose([\n",
        "        transforms.Grayscale(num_output_channels=1),\n",
        "        transforms.RandomHorizontalFlip(p=1.0), # Flipped\n",
        "        transforms.ToTensor(),\n",
        "        transforms.Normalize(mean=[0.5], std=[0.5])\n",
        "    ]),\n",
        "    transforms.Compose([\n",
        "        transforms.Grayscale(num_output_channels=1),\n",
        "        transforms.RandomRotation(5), # Small rotation\n",
        "        transforms.ToTensor(),\n",
        "        transforms.Normalize(mean=[0.5], std=[0.5])\n",
        "    ]),\n",
        "    transforms.Compose([\n",
        "        transforms.Grayscale(num_output_channels=1),\n",
        "        transforms.RandomAffine(degrees=0, translate=(0.05, 0.05)), # Small translation\n",
        "        transforms.ToTensor(),\n",
        "        transforms.Normalize(mean=[0.5], std=[0.5])\n",
        "    ])\n",
        "]"
      ],
      "metadata": {
        "collapsed": true,
        "id": "FJ-Yvntq2XH5"
      },
      "execution_count": 17,
      "outputs": []
    },
    {
      "cell_type": "code",
      "source": [
        "# Cell 3: Data Splitting and DataLoader Creation\n",
        "# Split training data for validation\n",
        "train_data, val_data = train_test_split(train_df, test_size=0.2, random_state=42, stratify=train_df['emotion'])\n",
        "\n",
        "# Create datasets\n",
        "train_dataset = FacialExpressionDataset(train_data, transform=train_transforms)\n",
        "val_dataset = TestTimeAugmentationDataset(val_data, transforms_list=tta_transforms) # Use TTA for validation\n",
        "test_dataset = TestTimeAugmentationDataset(test_df, transforms_list=tta_transforms) # Use TTA for test\n",
        "\n",
        "# Create DataLoaders\n",
        "batch_size = 64\n",
        "train_loader = DataLoader(train_dataset, batch_size=batch_size, shuffle=True, num_workers=2, pin_memory=True)\n",
        "val_loader = DataLoader(val_dataset, batch_size=batch_size, shuffle=False, num_workers=2, pin_memory=True)\n",
        "test_loader = DataLoader(test_dataset, batch_size=batch_size, shuffle=False, num_workers=2, pin_memory=True)\n",
        "\n",
        "print(f\"Number of training samples: {len(train_dataset)}\")\n",
        "print(f\"Number of validation samples: {len(val_dataset)}\")\n",
        "print(f\"Number of test samples: {len(test_dataset)}\")"
      ],
      "metadata": {
        "colab": {
          "base_uri": "https://localhost:8080/"
        },
        "id": "1Jvxks1mLXCN",
        "outputId": "b3fa6abd-6cb9-428c-f6c5-8f7afb42bcad"
      },
      "execution_count": 18,
      "outputs": [
        {
          "output_type": "stream",
          "name": "stdout",
          "text": [
            "Number of training samples: 22967\n",
            "Number of validation samples: 5742\n",
            "Number of test samples: 7178\n"
          ]
        }
      ]
    },
    {
      "cell_type": "code",
      "source": [
        "# Cell 4: Define the CNN Model\n",
        "class EnhancedFERNet(nn.Module):\n",
        "    def __init__(self, num_classes=7):\n",
        "        super(EnhancedFERNet, self).__init__()\n",
        "        # Block 1\n",
        "        self.conv1 = nn.Conv2d(in_channels=1, out_channels=64, kernel_size=3, padding=1) # Increased filters\n",
        "        self.bn1 = nn.BatchNorm2d(64)\n",
        "        self.conv2 = nn.Conv2d(in_channels=64, out_channels=64, kernel_size=3, padding=1)\n",
        "        self.bn2 = nn.BatchNorm2d(64)\n",
        "        self.pool1 = nn.MaxPool2d(kernel_size=2, stride=2)\n",
        "        self.dropout1 = nn.Dropout(0.25)\n",
        "\n",
        "        # Block 2 (Added one more conv layer)\n",
        "        self.conv3 = nn.Conv2d(in_channels=64, out_channels=128, kernel_size=3, padding=1)\n",
        "        self.bn3 = nn.BatchNorm2d(128)\n",
        "        self.conv4 = nn.Conv2d(in_channels=128, out_channels=128, kernel_size=3, padding=1)\n",
        "        self.bn4 = nn.BatchNorm2d(128)\n",
        "        self.conv5 = nn.Conv2d(in_channels=128, out_channels=128, kernel_size=3, padding=1) # New layer\n",
        "        self.bn5 = nn.BatchNorm2d(128)\n",
        "        self.pool2 = nn.MaxPool2d(kernel_size=2, stride=2)\n",
        "        self.dropout2 = nn.Dropout(0.25)\n",
        "\n",
        "        # Block 3 (Added one more conv layer, increased filters)\n",
        "        self.conv6 = nn.Conv2d(in_channels=128, out_channels=256, kernel_size=3, padding=1) # Increased filters\n",
        "        self.bn6 = nn.BatchNorm2d(256)\n",
        "        self.conv7 = nn.Conv2d(in_channels=256, out_channels=256, kernel_size=3, padding=1)\n",
        "        self.bn7 = nn.BatchNorm2d(256)\n",
        "        self.conv8 = nn.Conv2d(in_channels=256, out_channels=256, kernel_size=3, padding=1) # New layer\n",
        "        self.bn8 = nn.BatchNorm2d(256)\n",
        "        self.pool3 = nn.MaxPool2d(kernel_size=2, stride=2)\n",
        "        self.dropout3 = nn.Dropout(0.25)\n",
        "\n",
        "        # Fully Connected Layers\n",
        "        # 48x48 -> 24x24 (pool1) -> 12x12 (pool2) -> 6x6 (pool3)\n",
        "        self.fc1 = nn.Linear(256 * 6 * 6, 512)\n",
        "        self.bn_fc1 = nn.BatchNorm1d(512)\n",
        "        self.dropout_fc1 = nn.Dropout(0.5)\n",
        "        self.fc2 = nn.Linear(512, num_classes)\n",
        "\n",
        "    def forward(self, x):\n",
        "        # Block 1\n",
        "        x = F.relu(self.bn1(self.conv1(x)))\n",
        "        x = F.relu(self.bn2(self.conv2(x)))\n",
        "        x = self.pool1(x)\n",
        "        x = self.dropout1(x)\n",
        "\n",
        "        # Block 2\n",
        "        x = F.relu(self.bn3(self.conv3(x)))\n",
        "        x = F.relu(self.bn4(self.conv4(x)))\n",
        "        x = F.relu(self.bn5(self.conv5(x))) # New layer\n",
        "        x = self.pool2(x)\n",
        "        x = self.dropout2(x)\n",
        "\n",
        "        # Block 3\n",
        "        x = F.relu(self.bn6(self.conv6(x)))\n",
        "        x = F.relu(self.bn7(self.conv7(x)))\n",
        "        x = F.relu(self.bn8(self.conv8(x))) # New layer\n",
        "        x = self.pool3(x)\n",
        "        x = self.dropout3(x)\n",
        "\n",
        "        # Flatten\n",
        "        x = x.view(x.size(0), -1)\n",
        "\n",
        "        # Fully Connected Layers\n",
        "        x = F.relu(self.bn_fc1(self.fc1(x)))\n",
        "        x = self.dropout_fc1(x)\n",
        "        x = self.fc2(x)\n",
        "        return x\n",
        "\n",
        "model = EnhancedFERNet(num_classes=7).to(device)\n",
        "print(model)"
      ],
      "metadata": {
        "colab": {
          "base_uri": "https://localhost:8080/"
        },
        "collapsed": true,
        "id": "ufN1oOBo2jZL",
        "outputId": "1687d61e-b6b5-41be-a47d-2649d4080d18"
      },
      "execution_count": 19,
      "outputs": [
        {
          "output_type": "stream",
          "name": "stdout",
          "text": [
            "EnhancedFERNet(\n",
            "  (conv1): Conv2d(1, 64, kernel_size=(3, 3), stride=(1, 1), padding=(1, 1))\n",
            "  (bn1): BatchNorm2d(64, eps=1e-05, momentum=0.1, affine=True, track_running_stats=True)\n",
            "  (conv2): Conv2d(64, 64, kernel_size=(3, 3), stride=(1, 1), padding=(1, 1))\n",
            "  (bn2): BatchNorm2d(64, eps=1e-05, momentum=0.1, affine=True, track_running_stats=True)\n",
            "  (pool1): MaxPool2d(kernel_size=2, stride=2, padding=0, dilation=1, ceil_mode=False)\n",
            "  (dropout1): Dropout(p=0.25, inplace=False)\n",
            "  (conv3): Conv2d(64, 128, kernel_size=(3, 3), stride=(1, 1), padding=(1, 1))\n",
            "  (bn3): BatchNorm2d(128, eps=1e-05, momentum=0.1, affine=True, track_running_stats=True)\n",
            "  (conv4): Conv2d(128, 128, kernel_size=(3, 3), stride=(1, 1), padding=(1, 1))\n",
            "  (bn4): BatchNorm2d(128, eps=1e-05, momentum=0.1, affine=True, track_running_stats=True)\n",
            "  (conv5): Conv2d(128, 128, kernel_size=(3, 3), stride=(1, 1), padding=(1, 1))\n",
            "  (bn5): BatchNorm2d(128, eps=1e-05, momentum=0.1, affine=True, track_running_stats=True)\n",
            "  (pool2): MaxPool2d(kernel_size=2, stride=2, padding=0, dilation=1, ceil_mode=False)\n",
            "  (dropout2): Dropout(p=0.25, inplace=False)\n",
            "  (conv6): Conv2d(128, 256, kernel_size=(3, 3), stride=(1, 1), padding=(1, 1))\n",
            "  (bn6): BatchNorm2d(256, eps=1e-05, momentum=0.1, affine=True, track_running_stats=True)\n",
            "  (conv7): Conv2d(256, 256, kernel_size=(3, 3), stride=(1, 1), padding=(1, 1))\n",
            "  (bn7): BatchNorm2d(256, eps=1e-05, momentum=0.1, affine=True, track_running_stats=True)\n",
            "  (conv8): Conv2d(256, 256, kernel_size=(3, 3), stride=(1, 1), padding=(1, 1))\n",
            "  (bn8): BatchNorm2d(256, eps=1e-05, momentum=0.1, affine=True, track_running_stats=True)\n",
            "  (pool3): MaxPool2d(kernel_size=2, stride=2, padding=0, dilation=1, ceil_mode=False)\n",
            "  (dropout3): Dropout(p=0.25, inplace=False)\n",
            "  (fc1): Linear(in_features=9216, out_features=512, bias=True)\n",
            "  (bn_fc1): BatchNorm1d(512, eps=1e-05, momentum=0.1, affine=True, track_running_stats=True)\n",
            "  (dropout_fc1): Dropout(p=0.5, inplace=False)\n",
            "  (fc2): Linear(in_features=512, out_features=7, bias=True)\n",
            ")\n"
          ]
        }
      ]
    },
    {
      "cell_type": "code",
      "source": [
        "# Cell 5: Training Function\n",
        "from torch.optim.lr_scheduler import ReduceLROnPlateau\n",
        "\n",
        "class LabelSmoothingCrossEntropy(nn.Module):\n",
        "    def __init__(self, epsilon: float = 0.1, reduction='mean'):\n",
        "        super().__init__()\n",
        "        self.epsilon = epsilon\n",
        "        self.reduction = reduction\n",
        "\n",
        "    def forward(self, pred, target):\n",
        "        n_class = pred.size(1)\n",
        "        # Convert target to one-hot encoding\n",
        "        one_hot = F.one_hot(target, n_class).float().to(pred.device)\n",
        "        # Apply label smoothing\n",
        "        one_hot = one_hot * (1 - self.epsilon) + self.epsilon / n_class\n",
        "        # Calculate log_probs\n",
        "        log_probs = F.log_softmax(pred, dim=1)\n",
        "        # Calculate cross-entropy with smoothed labels\n",
        "        loss = -(one_hot * log_probs).sum(dim=1)\n",
        "\n",
        "        if self.reduction == 'mean':\n",
        "            return loss.mean()\n",
        "        elif self.reduction == 'sum':\n",
        "            return loss.sum()\n",
        "        else:\n",
        "            return loss\n",
        "\n",
        "def train_model(model, train_loader, val_loader, epochs, learning_rate, patience=10, max_grad_norm=1.0):\n",
        "    criterion = LabelSmoothingCrossEntropy(epsilon=0.1) # Using Label Smoothing\n",
        "    optimizer = optim.Adam(model.parameters(), lr=learning_rate)\n",
        "    scheduler = ReduceLROnPlateau(optimizer, mode='max', factor=0.5, patience=5, verbose=True, min_lr=1e-6) # Added min_lr\n",
        "\n",
        "    history = {'train_loss': [], 'train_acc': [], 'val_loss': [], 'val_acc': []}\n",
        "    best_val_accuracy = 0.0\n",
        "    epochs_no_improve = 0\n",
        "\n",
        "    for epoch in range(epochs):\n",
        "        model.train()\n",
        "        running_loss = 0.0\n",
        "        correct_train = 0\n",
        "        total_train = 0\n",
        "\n",
        "        for images, labels in tqdm(train_loader, desc=f\"Epoch {epoch+1}/{epochs} (Train)\"):\n",
        "            images, labels = images.to(device), labels.to(device)\n",
        "\n",
        "            optimizer.zero_grad()\n",
        "            outputs = model(images)\n",
        "            loss = criterion(outputs, labels)\n",
        "            loss.backward()\n",
        "\n",
        "            # Gradient Clipping\n",
        "            torch.nn.utils.clip_grad_norm_(model.parameters(), max_grad_norm)\n",
        "\n",
        "            optimizer.step()\n",
        "\n",
        "            running_loss += loss.item()\n",
        "            _, predicted = torch.max(outputs.data, 1)\n",
        "            total_train += labels.size(0)\n",
        "            correct_train += (predicted == labels).sum().item()\n",
        "\n",
        "        epoch_train_loss = running_loss / len(train_loader)\n",
        "        epoch_train_acc = correct_train / total_train\n",
        "        history['train_loss'].append(epoch_train_loss)\n",
        "        history['train_acc'].append(epoch_train_acc)\n",
        "\n",
        "        # Validation phase with TTA\n",
        "        model.eval()\n",
        "        val_loss = 0.0\n",
        "        all_val_preds = []\n",
        "        all_val_labels = []\n",
        "\n",
        "        with torch.no_grad():\n",
        "            for images_list, labels in tqdm(val_loader, desc=f\"Epoch {epoch+1}/{epochs} (Val with TTA)\"):\n",
        "                labels = labels.to(device)\n",
        "\n",
        "                # Aggregate predictions from TTA\n",
        "                tta_outputs = []\n",
        "                for img_transformed in images_list:\n",
        "                    img_transformed = img_transformed.to(device)\n",
        "                    tta_outputs.append(model(img_transformed))\n",
        "\n",
        "                # Average the logits or probabilities\n",
        "                avg_outputs = torch.stack(tta_outputs).mean(dim=0) # Average logits\n",
        "\n",
        "                loss = criterion(avg_outputs, labels) # Calculate loss using averaged outputs\n",
        "                val_loss += loss.item()\n",
        "\n",
        "                _, predicted = torch.max(avg_outputs, 1)\n",
        "                all_val_preds.extend(predicted.cpu().numpy())\n",
        "                all_val_labels.extend(labels.cpu().numpy())\n",
        "\n",
        "        epoch_val_loss = val_loss / len(val_loader)\n",
        "        epoch_val_acc = accuracy_score(all_val_labels, all_val_preds) # Use accuracy_score for TTA\n",
        "\n",
        "        history['val_loss'].append(epoch_val_loss)\n",
        "        history['val_acc'].append(epoch_val_acc)\n",
        "\n",
        "        print(f\"Epoch {epoch+1}/{epochs} - Train Loss: {epoch_train_loss:.4f}, Train Acc: {epoch_train_acc:.4f}, \"\n",
        "              f\"Val Loss: {epoch_val_loss:.4f}, Val Acc: {epoch_val_acc:.4f}\")\n",
        "\n",
        "        # Learning rate scheduler step\n",
        "        scheduler.step(epoch_val_acc)\n",
        "\n",
        "        # Early stopping check\n",
        "        if epoch_val_acc > best_val_accuracy:\n",
        "            best_val_accuracy = epoch_val_acc\n",
        "            epochs_no_improve = 0\n",
        "            torch.save(model.state_dict(), 'best_model.pth') # Save the best model\n",
        "            print(\"Best validation accuracy achieved. Model saved.\")\n",
        "        else:\n",
        "            epochs_no_improve += 1\n",
        "            if epochs_no_improve == patience:\n",
        "                print(f\"Early stopping triggered after {patience} epochs with no improvement.\")\n",
        "                break\n",
        "    return history"
      ],
      "metadata": {
        "id": "ZMUvT6mj2ouO"
      },
      "execution_count": 20,
      "outputs": []
    },
    {
      "cell_type": "code",
      "source": [
        "# Cell 6: Run Training\n",
        "epochs = 70\n",
        "learning_rate = 0.001\n",
        "\n",
        "print(f\"Starting training for {epochs} epochs with learning rate {learning_rate}...\")\n",
        "model = EnhancedFERNet(num_classes=7).to(device) # Re-initialize model to apply new architecture\n",
        "history = train_model(model, train_loader, val_loader, epochs, learning_rate, patience=15) # Increased patience"
      ],
      "metadata": {
        "collapsed": true,
        "colab": {
          "base_uri": "https://localhost:8080/"
        },
        "id": "S0eVFvczNBMN",
        "outputId": "f75da4fd-9609-4821-86d9-53c0bd54e966"
      },
      "execution_count": 21,
      "outputs": [
        {
          "output_type": "stream",
          "name": "stdout",
          "text": [
            "Starting training for 70 epochs with learning rate 0.001...\n"
          ]
        },
        {
          "output_type": "stream",
          "name": "stderr",
          "text": [
            "Epoch 1/70 (Train): 100%|██████████| 359/359 [00:20<00:00, 17.42it/s]\n",
            "Epoch 1/70 (Val with TTA): 100%|██████████| 90/90 [00:07<00:00, 12.04it/s]\n"
          ]
        },
        {
          "output_type": "stream",
          "name": "stdout",
          "text": [
            "Epoch 1/70 - Train Loss: 1.8683, Train Acc: 0.2503, Val Loss: 1.7132, Val Acc: 0.3236\n",
            "Best validation accuracy achieved. Model saved.\n"
          ]
        },
        {
          "output_type": "stream",
          "name": "stderr",
          "text": [
            "Epoch 2/70 (Train): 100%|██████████| 359/359 [00:19<00:00, 18.07it/s]\n",
            "Epoch 2/70 (Val with TTA): 100%|██████████| 90/90 [00:08<00:00, 11.09it/s]\n"
          ]
        },
        {
          "output_type": "stream",
          "name": "stdout",
          "text": [
            "Epoch 2/70 - Train Loss: 1.7049, Train Acc: 0.3529, Val Loss: 1.5548, Val Acc: 0.4385\n",
            "Best validation accuracy achieved. Model saved.\n"
          ]
        },
        {
          "output_type": "stream",
          "name": "stderr",
          "text": [
            "Epoch 3/70 (Train): 100%|██████████| 359/359 [00:20<00:00, 17.86it/s]\n",
            "Epoch 3/70 (Val with TTA): 100%|██████████| 90/90 [00:08<00:00, 11.09it/s]\n"
          ]
        },
        {
          "output_type": "stream",
          "name": "stdout",
          "text": [
            "Epoch 3/70 - Train Loss: 1.5670, Train Acc: 0.4336, Val Loss: 1.4176, Val Acc: 0.5111\n",
            "Best validation accuracy achieved. Model saved.\n"
          ]
        },
        {
          "output_type": "stream",
          "name": "stderr",
          "text": [
            "Epoch 4/70 (Train): 100%|██████████| 359/359 [00:19<00:00, 18.35it/s]\n",
            "Epoch 4/70 (Val with TTA): 100%|██████████| 90/90 [00:06<00:00, 12.97it/s]\n"
          ]
        },
        {
          "output_type": "stream",
          "name": "stdout",
          "text": [
            "Epoch 4/70 - Train Loss: 1.5017, Train Acc: 0.4676, Val Loss: 1.3740, Val Acc: 0.5331\n",
            "Best validation accuracy achieved. Model saved.\n"
          ]
        },
        {
          "output_type": "stream",
          "name": "stderr",
          "text": [
            "Epoch 5/70 (Train): 100%|██████████| 359/359 [00:21<00:00, 17.01it/s]\n",
            "Epoch 5/70 (Val with TTA): 100%|██████████| 90/90 [00:06<00:00, 13.65it/s]\n"
          ]
        },
        {
          "output_type": "stream",
          "name": "stdout",
          "text": [
            "Epoch 5/70 - Train Loss: 1.4654, Train Acc: 0.4907, Val Loss: 1.3454, Val Acc: 0.5505\n",
            "Best validation accuracy achieved. Model saved.\n"
          ]
        },
        {
          "output_type": "stream",
          "name": "stderr",
          "text": [
            "Epoch 6/70 (Train): 100%|██████████| 359/359 [00:21<00:00, 16.70it/s]\n",
            "Epoch 6/70 (Val with TTA): 100%|██████████| 90/90 [00:06<00:00, 13.89it/s]\n"
          ]
        },
        {
          "output_type": "stream",
          "name": "stdout",
          "text": [
            "Epoch 6/70 - Train Loss: 1.4336, Train Acc: 0.5086, Val Loss: 1.3323, Val Acc: 0.5545\n",
            "Best validation accuracy achieved. Model saved.\n"
          ]
        },
        {
          "output_type": "stream",
          "name": "stderr",
          "text": [
            "Epoch 7/70 (Train): 100%|██████████| 359/359 [00:20<00:00, 17.55it/s]\n",
            "Epoch 7/70 (Val with TTA): 100%|██████████| 90/90 [00:07<00:00, 12.31it/s]\n"
          ]
        },
        {
          "output_type": "stream",
          "name": "stdout",
          "text": [
            "Epoch 7/70 - Train Loss: 1.4088, Train Acc: 0.5233, Val Loss: 1.3161, Val Acc: 0.5676\n",
            "Best validation accuracy achieved. Model saved.\n"
          ]
        },
        {
          "output_type": "stream",
          "name": "stderr",
          "text": [
            "Epoch 8/70 (Train): 100%|██████████| 359/359 [00:19<00:00, 17.95it/s]\n",
            "Epoch 8/70 (Val with TTA): 100%|██████████| 90/90 [00:08<00:00, 10.98it/s]\n"
          ]
        },
        {
          "output_type": "stream",
          "name": "stdout",
          "text": [
            "Epoch 8/70 - Train Loss: 1.3857, Train Acc: 0.5361, Val Loss: 1.3576, Val Acc: 0.5474\n"
          ]
        },
        {
          "output_type": "stream",
          "name": "stderr",
          "text": [
            "Epoch 9/70 (Train): 100%|██████████| 359/359 [00:19<00:00, 18.04it/s]\n",
            "Epoch 9/70 (Val with TTA): 100%|██████████| 90/90 [00:08<00:00, 11.19it/s]\n"
          ]
        },
        {
          "output_type": "stream",
          "name": "stdout",
          "text": [
            "Epoch 9/70 - Train Loss: 1.3670, Train Acc: 0.5506, Val Loss: 1.2647, Val Acc: 0.5933\n",
            "Best validation accuracy achieved. Model saved.\n"
          ]
        },
        {
          "output_type": "stream",
          "name": "stderr",
          "text": [
            "Epoch 10/70 (Train): 100%|██████████| 359/359 [00:19<00:00, 18.46it/s]\n",
            "Epoch 10/70 (Val with TTA): 100%|██████████| 90/90 [00:06<00:00, 13.72it/s]\n"
          ]
        },
        {
          "output_type": "stream",
          "name": "stdout",
          "text": [
            "Epoch 10/70 - Train Loss: 1.3518, Train Acc: 0.5537, Val Loss: 1.2720, Val Acc: 0.5947\n",
            "Best validation accuracy achieved. Model saved.\n"
          ]
        },
        {
          "output_type": "stream",
          "name": "stderr",
          "text": [
            "Epoch 11/70 (Train): 100%|██████████| 359/359 [00:20<00:00, 17.13it/s]\n",
            "Epoch 11/70 (Val with TTA): 100%|██████████| 90/90 [00:06<00:00, 14.11it/s]\n"
          ]
        },
        {
          "output_type": "stream",
          "name": "stdout",
          "text": [
            "Epoch 11/70 - Train Loss: 1.3340, Train Acc: 0.5627, Val Loss: 1.2454, Val Acc: 0.6059\n",
            "Best validation accuracy achieved. Model saved.\n"
          ]
        },
        {
          "output_type": "stream",
          "name": "stderr",
          "text": [
            "Epoch 12/70 (Train): 100%|██████████| 359/359 [00:21<00:00, 17.08it/s]\n",
            "Epoch 12/70 (Val with TTA): 100%|██████████| 90/90 [00:06<00:00, 13.81it/s]\n"
          ]
        },
        {
          "output_type": "stream",
          "name": "stdout",
          "text": [
            "Epoch 12/70 - Train Loss: 1.3231, Train Acc: 0.5706, Val Loss: 1.2439, Val Acc: 0.6134\n",
            "Best validation accuracy achieved. Model saved.\n"
          ]
        },
        {
          "output_type": "stream",
          "name": "stderr",
          "text": [
            "Epoch 13/70 (Train): 100%|██████████| 359/359 [00:19<00:00, 18.16it/s]\n",
            "Epoch 13/70 (Val with TTA): 100%|██████████| 90/90 [00:07<00:00, 11.59it/s]\n"
          ]
        },
        {
          "output_type": "stream",
          "name": "stdout",
          "text": [
            "Epoch 13/70 - Train Loss: 1.3083, Train Acc: 0.5814, Val Loss: 1.2403, Val Acc: 0.6061\n"
          ]
        },
        {
          "output_type": "stream",
          "name": "stderr",
          "text": [
            "Epoch 14/70 (Train): 100%|██████████| 359/359 [00:19<00:00, 18.55it/s]\n",
            "Epoch 14/70 (Val with TTA): 100%|██████████| 90/90 [00:08<00:00, 11.08it/s]\n"
          ]
        },
        {
          "output_type": "stream",
          "name": "stdout",
          "text": [
            "Epoch 14/70 - Train Loss: 1.2978, Train Acc: 0.5848, Val Loss: 1.2135, Val Acc: 0.6186\n",
            "Best validation accuracy achieved. Model saved.\n"
          ]
        },
        {
          "output_type": "stream",
          "name": "stderr",
          "text": [
            "Epoch 15/70 (Train): 100%|██████████| 359/359 [00:19<00:00, 18.29it/s]\n",
            "Epoch 15/70 (Val with TTA): 100%|██████████| 90/90 [00:07<00:00, 12.24it/s]\n"
          ]
        },
        {
          "output_type": "stream",
          "name": "stdout",
          "text": [
            "Epoch 15/70 - Train Loss: 1.2874, Train Acc: 0.5892, Val Loss: 1.2253, Val Acc: 0.6109\n"
          ]
        },
        {
          "output_type": "stream",
          "name": "stderr",
          "text": [
            "Epoch 16/70 (Train): 100%|██████████| 359/359 [00:20<00:00, 17.62it/s]\n",
            "Epoch 16/70 (Val with TTA): 100%|██████████| 90/90 [00:06<00:00, 14.10it/s]\n"
          ]
        },
        {
          "output_type": "stream",
          "name": "stdout",
          "text": [
            "Epoch 16/70 - Train Loss: 1.2731, Train Acc: 0.5965, Val Loss: 1.2119, Val Acc: 0.6271\n",
            "Best validation accuracy achieved. Model saved.\n"
          ]
        },
        {
          "output_type": "stream",
          "name": "stderr",
          "text": [
            "Epoch 17/70 (Train): 100%|██████████| 359/359 [00:21<00:00, 16.69it/s]\n",
            "Epoch 17/70 (Val with TTA): 100%|██████████| 90/90 [00:06<00:00, 14.13it/s]\n"
          ]
        },
        {
          "output_type": "stream",
          "name": "stdout",
          "text": [
            "Epoch 17/70 - Train Loss: 1.2651, Train Acc: 0.6006, Val Loss: 1.1835, Val Acc: 0.6341\n",
            "Best validation accuracy achieved. Model saved.\n"
          ]
        },
        {
          "output_type": "stream",
          "name": "stderr",
          "text": [
            "Epoch 18/70 (Train): 100%|██████████| 359/359 [00:20<00:00, 17.87it/s]\n",
            "Epoch 18/70 (Val with TTA): 100%|██████████| 90/90 [00:07<00:00, 11.74it/s]\n"
          ]
        },
        {
          "output_type": "stream",
          "name": "stdout",
          "text": [
            "Epoch 18/70 - Train Loss: 1.2584, Train Acc: 0.6047, Val Loss: 1.2099, Val Acc: 0.6296\n"
          ]
        },
        {
          "output_type": "stream",
          "name": "stderr",
          "text": [
            "Epoch 19/70 (Train): 100%|██████████| 359/359 [00:19<00:00, 18.30it/s]\n",
            "Epoch 19/70 (Val with TTA): 100%|██████████| 90/90 [00:08<00:00, 11.13it/s]\n"
          ]
        },
        {
          "output_type": "stream",
          "name": "stdout",
          "text": [
            "Epoch 19/70 - Train Loss: 1.2490, Train Acc: 0.6111, Val Loss: 1.1853, Val Acc: 0.6398\n",
            "Best validation accuracy achieved. Model saved.\n"
          ]
        },
        {
          "output_type": "stream",
          "name": "stderr",
          "text": [
            "Epoch 20/70 (Train): 100%|██████████| 359/359 [00:19<00:00, 18.19it/s]\n",
            "Epoch 20/70 (Val with TTA): 100%|██████████| 90/90 [00:07<00:00, 12.28it/s]\n"
          ]
        },
        {
          "output_type": "stream",
          "name": "stdout",
          "text": [
            "Epoch 20/70 - Train Loss: 1.2370, Train Acc: 0.6151, Val Loss: 1.1739, Val Acc: 0.6475\n",
            "Best validation accuracy achieved. Model saved.\n"
          ]
        },
        {
          "output_type": "stream",
          "name": "stderr",
          "text": [
            "Epoch 21/70 (Train): 100%|██████████| 359/359 [00:20<00:00, 17.56it/s]\n",
            "Epoch 21/70 (Val with TTA): 100%|██████████| 90/90 [00:06<00:00, 14.12it/s]\n"
          ]
        },
        {
          "output_type": "stream",
          "name": "stdout",
          "text": [
            "Epoch 21/70 - Train Loss: 1.2351, Train Acc: 0.6174, Val Loss: 1.1697, Val Acc: 0.6480\n",
            "Best validation accuracy achieved. Model saved.\n"
          ]
        },
        {
          "output_type": "stream",
          "name": "stderr",
          "text": [
            "Epoch 22/70 (Train): 100%|██████████| 359/359 [00:21<00:00, 16.78it/s]\n",
            "Epoch 22/70 (Val with TTA): 100%|██████████| 90/90 [00:06<00:00, 14.42it/s]\n"
          ]
        },
        {
          "output_type": "stream",
          "name": "stdout",
          "text": [
            "Epoch 22/70 - Train Loss: 1.2294, Train Acc: 0.6184, Val Loss: 1.1764, Val Acc: 0.6393\n"
          ]
        },
        {
          "output_type": "stream",
          "name": "stderr",
          "text": [
            "Epoch 23/70 (Train): 100%|██████████| 359/359 [00:20<00:00, 17.54it/s]\n",
            "Epoch 23/70 (Val with TTA): 100%|██████████| 90/90 [00:07<00:00, 12.31it/s]\n"
          ]
        },
        {
          "output_type": "stream",
          "name": "stdout",
          "text": [
            "Epoch 23/70 - Train Loss: 1.2194, Train Acc: 0.6273, Val Loss: 1.1588, Val Acc: 0.6480\n"
          ]
        },
        {
          "output_type": "stream",
          "name": "stderr",
          "text": [
            "Epoch 24/70 (Train): 100%|██████████| 359/359 [00:19<00:00, 18.12it/s]\n",
            "Epoch 24/70 (Val with TTA): 100%|██████████| 90/90 [00:08<00:00, 11.08it/s]\n"
          ]
        },
        {
          "output_type": "stream",
          "name": "stdout",
          "text": [
            "Epoch 24/70 - Train Loss: 1.2161, Train Acc: 0.6280, Val Loss: 1.1597, Val Acc: 0.6566\n",
            "Best validation accuracy achieved. Model saved.\n"
          ]
        },
        {
          "output_type": "stream",
          "name": "stderr",
          "text": [
            "Epoch 25/70 (Train): 100%|██████████| 359/359 [00:19<00:00, 18.36it/s]\n",
            "Epoch 25/70 (Val with TTA): 100%|██████████| 90/90 [00:07<00:00, 11.71it/s]\n"
          ]
        },
        {
          "output_type": "stream",
          "name": "stdout",
          "text": [
            "Epoch 25/70 - Train Loss: 1.2051, Train Acc: 0.6334, Val Loss: 1.1510, Val Acc: 0.6621\n",
            "Best validation accuracy achieved. Model saved.\n"
          ]
        },
        {
          "output_type": "stream",
          "name": "stderr",
          "text": [
            "Epoch 26/70 (Train): 100%|██████████| 359/359 [00:20<00:00, 17.81it/s]\n",
            "Epoch 26/70 (Val with TTA): 100%|██████████| 90/90 [00:06<00:00, 13.61it/s]\n"
          ]
        },
        {
          "output_type": "stream",
          "name": "stdout",
          "text": [
            "Epoch 26/70 - Train Loss: 1.1988, Train Acc: 0.6363, Val Loss: 1.1422, Val Acc: 0.6602\n"
          ]
        },
        {
          "output_type": "stream",
          "name": "stderr",
          "text": [
            "Epoch 27/70 (Train): 100%|██████████| 359/359 [00:21<00:00, 16.92it/s]\n",
            "Epoch 27/70 (Val with TTA): 100%|██████████| 90/90 [00:06<00:00, 14.33it/s]\n"
          ]
        },
        {
          "output_type": "stream",
          "name": "stdout",
          "text": [
            "Epoch 27/70 - Train Loss: 1.1923, Train Acc: 0.6386, Val Loss: 1.1391, Val Acc: 0.6580\n"
          ]
        },
        {
          "output_type": "stream",
          "name": "stderr",
          "text": [
            "Epoch 28/70 (Train): 100%|██████████| 359/359 [00:20<00:00, 17.49it/s]\n",
            "Epoch 28/70 (Val with TTA): 100%|██████████| 90/90 [00:07<00:00, 12.46it/s]\n"
          ]
        },
        {
          "output_type": "stream",
          "name": "stdout",
          "text": [
            "Epoch 28/70 - Train Loss: 1.1910, Train Acc: 0.6423, Val Loss: 1.1533, Val Acc: 0.6526\n"
          ]
        },
        {
          "output_type": "stream",
          "name": "stderr",
          "text": [
            "Epoch 29/70 (Train): 100%|██████████| 359/359 [00:19<00:00, 18.26it/s]\n",
            "Epoch 29/70 (Val with TTA): 100%|██████████| 90/90 [00:08<00:00, 11.09it/s]\n"
          ]
        },
        {
          "output_type": "stream",
          "name": "stdout",
          "text": [
            "Epoch 29/70 - Train Loss: 1.1862, Train Acc: 0.6441, Val Loss: 1.1394, Val Acc: 0.6609\n"
          ]
        },
        {
          "output_type": "stream",
          "name": "stderr",
          "text": [
            "Epoch 30/70 (Train): 100%|██████████| 359/359 [00:19<00:00, 17.97it/s]\n",
            "Epoch 30/70 (Val with TTA): 100%|██████████| 90/90 [00:08<00:00, 11.01it/s]\n"
          ]
        },
        {
          "output_type": "stream",
          "name": "stdout",
          "text": [
            "Epoch 30/70 - Train Loss: 1.1795, Train Acc: 0.6493, Val Loss: 1.1417, Val Acc: 0.6627\n",
            "Best validation accuracy achieved. Model saved.\n"
          ]
        },
        {
          "output_type": "stream",
          "name": "stderr",
          "text": [
            "Epoch 31/70 (Train): 100%|██████████| 359/359 [00:19<00:00, 18.04it/s]\n",
            "Epoch 31/70 (Val with TTA): 100%|██████████| 90/90 [00:07<00:00, 12.73it/s]\n"
          ]
        },
        {
          "output_type": "stream",
          "name": "stdout",
          "text": [
            "Epoch 31/70 - Train Loss: 1.1713, Train Acc: 0.6495, Val Loss: 1.1316, Val Acc: 0.6674\n",
            "Best validation accuracy achieved. Model saved.\n"
          ]
        },
        {
          "output_type": "stream",
          "name": "stderr",
          "text": [
            "Epoch 32/70 (Train): 100%|██████████| 359/359 [00:20<00:00, 17.27it/s]\n",
            "Epoch 32/70 (Val with TTA): 100%|██████████| 90/90 [00:06<00:00, 14.05it/s]\n"
          ]
        },
        {
          "output_type": "stream",
          "name": "stdout",
          "text": [
            "Epoch 32/70 - Train Loss: 1.1598, Train Acc: 0.6580, Val Loss: 1.1390, Val Acc: 0.6646\n"
          ]
        },
        {
          "output_type": "stream",
          "name": "stderr",
          "text": [
            "Epoch 33/70 (Train): 100%|██████████| 359/359 [00:21<00:00, 16.54it/s]\n",
            "Epoch 33/70 (Val with TTA): 100%|██████████| 90/90 [00:06<00:00, 14.28it/s]\n"
          ]
        },
        {
          "output_type": "stream",
          "name": "stdout",
          "text": [
            "Epoch 33/70 - Train Loss: 1.1634, Train Acc: 0.6541, Val Loss: 1.1308, Val Acc: 0.6693\n",
            "Best validation accuracy achieved. Model saved.\n"
          ]
        },
        {
          "output_type": "stream",
          "name": "stderr",
          "text": [
            "Epoch 34/70 (Train): 100%|██████████| 359/359 [00:20<00:00, 17.47it/s]\n",
            "Epoch 34/70 (Val with TTA): 100%|██████████| 90/90 [00:07<00:00, 12.21it/s]\n"
          ]
        },
        {
          "output_type": "stream",
          "name": "stdout",
          "text": [
            "Epoch 34/70 - Train Loss: 1.1519, Train Acc: 0.6616, Val Loss: 1.1269, Val Acc: 0.6688\n"
          ]
        },
        {
          "output_type": "stream",
          "name": "stderr",
          "text": [
            "Epoch 35/70 (Train): 100%|██████████| 359/359 [00:19<00:00, 17.99it/s]\n",
            "Epoch 35/70 (Val with TTA): 100%|██████████| 90/90 [00:08<00:00, 10.94it/s]\n"
          ]
        },
        {
          "output_type": "stream",
          "name": "stdout",
          "text": [
            "Epoch 35/70 - Train Loss: 1.1560, Train Acc: 0.6606, Val Loss: 1.1290, Val Acc: 0.6703\n",
            "Best validation accuracy achieved. Model saved.\n"
          ]
        },
        {
          "output_type": "stream",
          "name": "stderr",
          "text": [
            "Epoch 36/70 (Train): 100%|██████████| 359/359 [00:19<00:00, 18.28it/s]\n",
            "Epoch 36/70 (Val with TTA): 100%|██████████| 90/90 [00:08<00:00, 10.94it/s]\n"
          ]
        },
        {
          "output_type": "stream",
          "name": "stdout",
          "text": [
            "Epoch 36/70 - Train Loss: 1.1481, Train Acc: 0.6626, Val Loss: 1.1219, Val Acc: 0.6743\n",
            "Best validation accuracy achieved. Model saved.\n"
          ]
        },
        {
          "output_type": "stream",
          "name": "stderr",
          "text": [
            "Epoch 37/70 (Train): 100%|██████████| 359/359 [00:19<00:00, 18.06it/s]\n",
            "Epoch 37/70 (Val with TTA): 100%|██████████| 90/90 [00:07<00:00, 12.77it/s]\n"
          ]
        },
        {
          "output_type": "stream",
          "name": "stdout",
          "text": [
            "Epoch 37/70 - Train Loss: 1.1452, Train Acc: 0.6646, Val Loss: 1.1393, Val Acc: 0.6634\n"
          ]
        },
        {
          "output_type": "stream",
          "name": "stderr",
          "text": [
            "Epoch 38/70 (Train): 100%|██████████| 359/359 [00:21<00:00, 16.83it/s]\n",
            "Epoch 38/70 (Val with TTA): 100%|██████████| 90/90 [00:06<00:00, 13.81it/s]\n"
          ]
        },
        {
          "output_type": "stream",
          "name": "stdout",
          "text": [
            "Epoch 38/70 - Train Loss: 1.1376, Train Acc: 0.6689, Val Loss: 1.1218, Val Acc: 0.6728\n"
          ]
        },
        {
          "output_type": "stream",
          "name": "stderr",
          "text": [
            "Epoch 39/70 (Train): 100%|██████████| 359/359 [00:21<00:00, 16.62it/s]\n",
            "Epoch 39/70 (Val with TTA): 100%|██████████| 90/90 [00:06<00:00, 14.35it/s]\n"
          ]
        },
        {
          "output_type": "stream",
          "name": "stdout",
          "text": [
            "Epoch 39/70 - Train Loss: 1.1285, Train Acc: 0.6732, Val Loss: 1.1350, Val Acc: 0.6693\n"
          ]
        },
        {
          "output_type": "stream",
          "name": "stderr",
          "text": [
            "Epoch 40/70 (Train): 100%|██████████| 359/359 [00:19<00:00, 17.96it/s]\n",
            "Epoch 40/70 (Val with TTA): 100%|██████████| 90/90 [00:07<00:00, 11.78it/s]\n"
          ]
        },
        {
          "output_type": "stream",
          "name": "stdout",
          "text": [
            "Epoch 40/70 - Train Loss: 1.1255, Train Acc: 0.6746, Val Loss: 1.1323, Val Acc: 0.6722\n"
          ]
        },
        {
          "output_type": "stream",
          "name": "stderr",
          "text": [
            "Epoch 41/70 (Train): 100%|██████████| 359/359 [00:19<00:00, 18.12it/s]\n",
            "Epoch 41/70 (Val with TTA): 100%|██████████| 90/90 [00:08<00:00, 11.13it/s]\n"
          ]
        },
        {
          "output_type": "stream",
          "name": "stdout",
          "text": [
            "Epoch 41/70 - Train Loss: 1.1208, Train Acc: 0.6793, Val Loss: 1.1147, Val Acc: 0.6729\n"
          ]
        },
        {
          "output_type": "stream",
          "name": "stderr",
          "text": [
            "Epoch 42/70 (Train): 100%|██████████| 359/359 [00:19<00:00, 18.36it/s]\n",
            "Epoch 42/70 (Val with TTA): 100%|██████████| 90/90 [00:07<00:00, 11.87it/s]\n"
          ]
        },
        {
          "output_type": "stream",
          "name": "stdout",
          "text": [
            "Epoch 42/70 - Train Loss: 1.1193, Train Acc: 0.6804, Val Loss: 1.1103, Val Acc: 0.6804\n",
            "Best validation accuracy achieved. Model saved.\n"
          ]
        },
        {
          "output_type": "stream",
          "name": "stderr",
          "text": [
            "Epoch 43/70 (Train): 100%|██████████| 359/359 [00:20<00:00, 17.92it/s]\n",
            "Epoch 43/70 (Val with TTA): 100%|██████████| 90/90 [00:06<00:00, 13.83it/s]\n"
          ]
        },
        {
          "output_type": "stream",
          "name": "stdout",
          "text": [
            "Epoch 43/70 - Train Loss: 1.1113, Train Acc: 0.6849, Val Loss: 1.1176, Val Acc: 0.6803\n"
          ]
        },
        {
          "output_type": "stream",
          "name": "stderr",
          "text": [
            "Epoch 44/70 (Train): 100%|██████████| 359/359 [00:21<00:00, 16.82it/s]\n",
            "Epoch 44/70 (Val with TTA): 100%|██████████| 90/90 [00:06<00:00, 13.74it/s]\n"
          ]
        },
        {
          "output_type": "stream",
          "name": "stdout",
          "text": [
            "Epoch 44/70 - Train Loss: 1.1060, Train Acc: 0.6870, Val Loss: 1.1433, Val Acc: 0.6712\n"
          ]
        },
        {
          "output_type": "stream",
          "name": "stderr",
          "text": [
            "Epoch 45/70 (Train): 100%|██████████| 359/359 [00:20<00:00, 17.20it/s]\n",
            "Epoch 45/70 (Val with TTA): 100%|██████████| 90/90 [00:07<00:00, 12.82it/s]\n"
          ]
        },
        {
          "output_type": "stream",
          "name": "stdout",
          "text": [
            "Epoch 45/70 - Train Loss: 1.1022, Train Acc: 0.6859, Val Loss: 1.1163, Val Acc: 0.6768\n"
          ]
        },
        {
          "output_type": "stream",
          "name": "stderr",
          "text": [
            "Epoch 46/70 (Train): 100%|██████████| 359/359 [00:19<00:00, 18.12it/s]\n",
            "Epoch 46/70 (Val with TTA): 100%|██████████| 90/90 [00:08<00:00, 11.15it/s]\n"
          ]
        },
        {
          "output_type": "stream",
          "name": "stdout",
          "text": [
            "Epoch 46/70 - Train Loss: 1.0936, Train Acc: 0.6935, Val Loss: 1.1008, Val Acc: 0.6830\n",
            "Best validation accuracy achieved. Model saved.\n"
          ]
        },
        {
          "output_type": "stream",
          "name": "stderr",
          "text": [
            "Epoch 47/70 (Train): 100%|██████████| 359/359 [00:19<00:00, 18.16it/s]\n",
            "Epoch 47/70 (Val with TTA): 100%|██████████| 90/90 [00:07<00:00, 11.27it/s]\n"
          ]
        },
        {
          "output_type": "stream",
          "name": "stdout",
          "text": [
            "Epoch 47/70 - Train Loss: 1.0945, Train Acc: 0.6900, Val Loss: 1.1206, Val Acc: 0.6722\n"
          ]
        },
        {
          "output_type": "stream",
          "name": "stderr",
          "text": [
            "Epoch 48/70 (Train): 100%|██████████| 359/359 [00:19<00:00, 18.27it/s]\n",
            "Epoch 48/70 (Val with TTA): 100%|██████████| 90/90 [00:07<00:00, 12.57it/s]\n"
          ]
        },
        {
          "output_type": "stream",
          "name": "stdout",
          "text": [
            "Epoch 48/70 - Train Loss: 1.0847, Train Acc: 0.6984, Val Loss: 1.1094, Val Acc: 0.6815\n"
          ]
        },
        {
          "output_type": "stream",
          "name": "stderr",
          "text": [
            "Epoch 49/70 (Train): 100%|██████████| 359/359 [00:20<00:00, 17.42it/s]\n",
            "Epoch 49/70 (Val with TTA): 100%|██████████| 90/90 [00:06<00:00, 13.82it/s]\n"
          ]
        },
        {
          "output_type": "stream",
          "name": "stdout",
          "text": [
            "Epoch 49/70 - Train Loss: 1.0852, Train Acc: 0.6965, Val Loss: 1.1020, Val Acc: 0.6834\n",
            "Best validation accuracy achieved. Model saved.\n"
          ]
        },
        {
          "output_type": "stream",
          "name": "stderr",
          "text": [
            "Epoch 50/70 (Train): 100%|██████████| 359/359 [00:21<00:00, 16.57it/s]\n",
            "Epoch 50/70 (Val with TTA): 100%|██████████| 90/90 [00:06<00:00, 13.94it/s]\n"
          ]
        },
        {
          "output_type": "stream",
          "name": "stdout",
          "text": [
            "Epoch 50/70 - Train Loss: 1.0844, Train Acc: 0.6963, Val Loss: 1.1173, Val Acc: 0.6789\n"
          ]
        },
        {
          "output_type": "stream",
          "name": "stderr",
          "text": [
            "Epoch 51/70 (Train): 100%|██████████| 359/359 [00:20<00:00, 17.58it/s]\n",
            "Epoch 51/70 (Val with TTA): 100%|██████████| 90/90 [00:07<00:00, 11.78it/s]\n"
          ]
        },
        {
          "output_type": "stream",
          "name": "stdout",
          "text": [
            "Epoch 51/70 - Train Loss: 1.0794, Train Acc: 0.7006, Val Loss: 1.1158, Val Acc: 0.6752\n"
          ]
        },
        {
          "output_type": "stream",
          "name": "stderr",
          "text": [
            "Epoch 52/70 (Train): 100%|██████████| 359/359 [00:19<00:00, 18.00it/s]\n",
            "Epoch 52/70 (Val with TTA): 100%|██████████| 90/90 [00:08<00:00, 10.82it/s]\n"
          ]
        },
        {
          "output_type": "stream",
          "name": "stdout",
          "text": [
            "Epoch 52/70 - Train Loss: 1.0709, Train Acc: 0.7026, Val Loss: 1.1201, Val Acc: 0.6792\n"
          ]
        },
        {
          "output_type": "stream",
          "name": "stderr",
          "text": [
            "Epoch 53/70 (Train): 100%|██████████| 359/359 [00:19<00:00, 18.14it/s]\n",
            "Epoch 53/70 (Val with TTA): 100%|██████████| 90/90 [00:07<00:00, 11.62it/s]\n"
          ]
        },
        {
          "output_type": "stream",
          "name": "stdout",
          "text": [
            "Epoch 53/70 - Train Loss: 1.0680, Train Acc: 0.7042, Val Loss: 1.1118, Val Acc: 0.6869\n",
            "Best validation accuracy achieved. Model saved.\n"
          ]
        },
        {
          "output_type": "stream",
          "name": "stderr",
          "text": [
            "Epoch 54/70 (Train): 100%|██████████| 359/359 [00:20<00:00, 17.68it/s]\n",
            "Epoch 54/70 (Val with TTA): 100%|██████████| 90/90 [00:06<00:00, 13.50it/s]\n"
          ]
        },
        {
          "output_type": "stream",
          "name": "stdout",
          "text": [
            "Epoch 54/70 - Train Loss: 1.0572, Train Acc: 0.7127, Val Loss: 1.1066, Val Acc: 0.6856\n"
          ]
        },
        {
          "output_type": "stream",
          "name": "stderr",
          "text": [
            "Epoch 55/70 (Train): 100%|██████████| 359/359 [00:21<00:00, 16.98it/s]\n",
            "Epoch 55/70 (Val with TTA): 100%|██████████| 90/90 [00:06<00:00, 14.01it/s]\n"
          ]
        },
        {
          "output_type": "stream",
          "name": "stdout",
          "text": [
            "Epoch 55/70 - Train Loss: 1.0576, Train Acc: 0.7120, Val Loss: 1.0989, Val Acc: 0.6836\n"
          ]
        },
        {
          "output_type": "stream",
          "name": "stderr",
          "text": [
            "Epoch 56/70 (Train): 100%|██████████| 359/359 [00:21<00:00, 16.88it/s]\n",
            "Epoch 56/70 (Val with TTA): 100%|██████████| 90/90 [00:06<00:00, 13.97it/s]\n"
          ]
        },
        {
          "output_type": "stream",
          "name": "stdout",
          "text": [
            "Epoch 56/70 - Train Loss: 1.0512, Train Acc: 0.7142, Val Loss: 1.1063, Val Acc: 0.6877\n",
            "Best validation accuracy achieved. Model saved.\n"
          ]
        },
        {
          "output_type": "stream",
          "name": "stderr",
          "text": [
            "Epoch 57/70 (Train): 100%|██████████| 359/359 [00:19<00:00, 18.00it/s]\n",
            "Epoch 57/70 (Val with TTA): 100%|██████████| 90/90 [00:07<00:00, 11.59it/s]\n"
          ]
        },
        {
          "output_type": "stream",
          "name": "stdout",
          "text": [
            "Epoch 57/70 - Train Loss: 1.0483, Train Acc: 0.7138, Val Loss: 1.1036, Val Acc: 0.6846\n"
          ]
        },
        {
          "output_type": "stream",
          "name": "stderr",
          "text": [
            "Epoch 58/70 (Train): 100%|██████████| 359/359 [00:19<00:00, 18.00it/s]\n",
            "Epoch 58/70 (Val with TTA): 100%|██████████| 90/90 [00:07<00:00, 11.27it/s]\n"
          ]
        },
        {
          "output_type": "stream",
          "name": "stdout",
          "text": [
            "Epoch 58/70 - Train Loss: 1.0385, Train Acc: 0.7211, Val Loss: 1.1248, Val Acc: 0.6809\n"
          ]
        },
        {
          "output_type": "stream",
          "name": "stderr",
          "text": [
            "Epoch 59/70 (Train): 100%|██████████| 359/359 [00:19<00:00, 18.08it/s]\n",
            "Epoch 59/70 (Val with TTA): 100%|██████████| 90/90 [00:07<00:00, 11.78it/s]\n"
          ]
        },
        {
          "output_type": "stream",
          "name": "stdout",
          "text": [
            "Epoch 59/70 - Train Loss: 1.0456, Train Acc: 0.7148, Val Loss: 1.1047, Val Acc: 0.6855\n"
          ]
        },
        {
          "output_type": "stream",
          "name": "stderr",
          "text": [
            "Epoch 60/70 (Train): 100%|██████████| 359/359 [00:20<00:00, 17.66it/s]\n",
            "Epoch 60/70 (Val with TTA): 100%|██████████| 90/90 [00:06<00:00, 14.04it/s]\n"
          ]
        },
        {
          "output_type": "stream",
          "name": "stdout",
          "text": [
            "Epoch 60/70 - Train Loss: 1.0334, Train Acc: 0.7253, Val Loss: 1.0980, Val Acc: 0.6916\n",
            "Best validation accuracy achieved. Model saved.\n"
          ]
        },
        {
          "output_type": "stream",
          "name": "stderr",
          "text": [
            "Epoch 61/70 (Train): 100%|██████████| 359/359 [00:21<00:00, 16.67it/s]\n",
            "Epoch 61/70 (Val with TTA): 100%|██████████| 90/90 [00:06<00:00, 13.70it/s]\n"
          ]
        },
        {
          "output_type": "stream",
          "name": "stdout",
          "text": [
            "Epoch 61/70 - Train Loss: 1.0287, Train Acc: 0.7261, Val Loss: 1.1059, Val Acc: 0.6879\n"
          ]
        },
        {
          "output_type": "stream",
          "name": "stderr",
          "text": [
            "Epoch 62/70 (Train): 100%|██████████| 359/359 [00:20<00:00, 17.35it/s]\n",
            "Epoch 62/70 (Val with TTA): 100%|██████████| 90/90 [00:07<00:00, 12.70it/s]\n"
          ]
        },
        {
          "output_type": "stream",
          "name": "stdout",
          "text": [
            "Epoch 62/70 - Train Loss: 1.0277, Train Acc: 0.7268, Val Loss: 1.1163, Val Acc: 0.6799\n"
          ]
        },
        {
          "output_type": "stream",
          "name": "stderr",
          "text": [
            "Epoch 63/70 (Train): 100%|██████████| 359/359 [00:19<00:00, 18.24it/s]\n",
            "Epoch 63/70 (Val with TTA): 100%|██████████| 90/90 [00:08<00:00, 11.20it/s]\n"
          ]
        },
        {
          "output_type": "stream",
          "name": "stdout",
          "text": [
            "Epoch 63/70 - Train Loss: 1.0245, Train Acc: 0.7273, Val Loss: 1.1041, Val Acc: 0.6886\n"
          ]
        },
        {
          "output_type": "stream",
          "name": "stderr",
          "text": [
            "Epoch 64/70 (Train): 100%|██████████| 359/359 [00:19<00:00, 18.21it/s]\n",
            "Epoch 64/70 (Val with TTA): 100%|██████████| 90/90 [00:07<00:00, 11.39it/s]\n"
          ]
        },
        {
          "output_type": "stream",
          "name": "stdout",
          "text": [
            "Epoch 64/70 - Train Loss: 1.0158, Train Acc: 0.7326, Val Loss: 1.1062, Val Acc: 0.6853\n"
          ]
        },
        {
          "output_type": "stream",
          "name": "stderr",
          "text": [
            "Epoch 65/70 (Train): 100%|██████████| 359/359 [00:19<00:00, 18.08it/s]\n",
            "Epoch 65/70 (Val with TTA): 100%|██████████| 90/90 [00:06<00:00, 13.65it/s]\n"
          ]
        },
        {
          "output_type": "stream",
          "name": "stdout",
          "text": [
            "Epoch 65/70 - Train Loss: 1.0171, Train Acc: 0.7311, Val Loss: 1.1288, Val Acc: 0.6846\n"
          ]
        },
        {
          "output_type": "stream",
          "name": "stderr",
          "text": [
            "Epoch 66/70 (Train): 100%|██████████| 359/359 [00:21<00:00, 17.01it/s]\n",
            "Epoch 66/70 (Val with TTA): 100%|██████████| 90/90 [00:06<00:00, 13.70it/s]\n"
          ]
        },
        {
          "output_type": "stream",
          "name": "stdout",
          "text": [
            "Epoch 66/70 - Train Loss: 1.0154, Train Acc: 0.7337, Val Loss: 1.0912, Val Acc: 0.6933\n",
            "Best validation accuracy achieved. Model saved.\n"
          ]
        },
        {
          "output_type": "stream",
          "name": "stderr",
          "text": [
            "Epoch 67/70 (Train): 100%|██████████| 359/359 [00:21<00:00, 17.05it/s]\n",
            "Epoch 67/70 (Val with TTA): 100%|██████████| 90/90 [00:06<00:00, 13.14it/s]\n"
          ]
        },
        {
          "output_type": "stream",
          "name": "stdout",
          "text": [
            "Epoch 67/70 - Train Loss: 1.0013, Train Acc: 0.7430, Val Loss: 1.0943, Val Acc: 0.6926\n"
          ]
        },
        {
          "output_type": "stream",
          "name": "stderr",
          "text": [
            "Epoch 68/70 (Train): 100%|██████████| 359/359 [00:19<00:00, 18.01it/s]\n",
            "Epoch 68/70 (Val with TTA): 100%|██████████| 90/90 [00:07<00:00, 11.39it/s]\n"
          ]
        },
        {
          "output_type": "stream",
          "name": "stdout",
          "text": [
            "Epoch 68/70 - Train Loss: 1.0016, Train Acc: 0.7417, Val Loss: 1.1092, Val Acc: 0.6837\n"
          ]
        },
        {
          "output_type": "stream",
          "name": "stderr",
          "text": [
            "Epoch 69/70 (Train): 100%|██████████| 359/359 [00:19<00:00, 18.25it/s]\n",
            "Epoch 69/70 (Val with TTA): 100%|██████████| 90/90 [00:08<00:00, 11.06it/s]\n"
          ]
        },
        {
          "output_type": "stream",
          "name": "stdout",
          "text": [
            "Epoch 69/70 - Train Loss: 1.0027, Train Acc: 0.7407, Val Loss: 1.0905, Val Acc: 0.6994\n",
            "Best validation accuracy achieved. Model saved.\n"
          ]
        },
        {
          "output_type": "stream",
          "name": "stderr",
          "text": [
            "Epoch 70/70 (Train): 100%|██████████| 359/359 [00:19<00:00, 18.15it/s]\n",
            "Epoch 70/70 (Val with TTA): 100%|██████████| 90/90 [00:07<00:00, 12.34it/s]"
          ]
        },
        {
          "output_type": "stream",
          "name": "stdout",
          "text": [
            "Epoch 70/70 - Train Loss: 0.9971, Train Acc: 0.7408, Val Loss: 1.1056, Val Acc: 0.6917\n"
          ]
        },
        {
          "output_type": "stream",
          "name": "stderr",
          "text": [
            "\n"
          ]
        }
      ]
    },
    {
      "cell_type": "code",
      "source": [
        "# Cell 8: Model Evaluation (on Validation Set with TTA)\n",
        "model.load_state_dict(torch.load('best_model.pth'))\n",
        "model.eval()\n",
        "\n",
        "all_val_preds = []\n",
        "all_val_labels = []\n",
        "\n",
        "with torch.no_grad():\n",
        "    for images_list, labels in tqdm(val_loader, desc=\"Evaluating on Validation Set with TTA\"):\n",
        "        labels = labels.to(device)\n",
        "\n",
        "        tta_outputs = []\n",
        "        for img_transformed in images_list:\n",
        "            img_transformed = img_transformed.to(device)\n",
        "            tta_outputs.append(model(img_transformed))\n",
        "\n",
        "        # Average the logits (raw outputs) from all TTA transformed images\n",
        "        avg_outputs = torch.stack(tta_outputs).mean(dim=0)\n",
        "\n",
        "        _, predicted = torch.max(avg_outputs, 1)\n",
        "        all_val_preds.extend(predicted.cpu().numpy())\n",
        "        all_val_labels.extend(labels.cpu().numpy())\n",
        "\n",
        "val_accuracy = accuracy_score(all_val_labels, all_val_preds)\n",
        "print(f\"\\nValidation Accuracy (with TTA): {val_accuracy:.4f}\")\n",
        "\n",
        "print(\"\\nClassification Report:\")\n",
        "print(classification_report(all_val_labels, all_val_preds, target_names=emotion_labels))\n",
        "\n",
        "# Confusion Matrix\n",
        "conf_matrix = confusion_matrix(all_val_labels, all_val_preds)\n",
        "plt.figure(figsize=(10, 8))\n",
        "sns.heatmap(conf_matrix, annot=True, fmt='d', cmap='Blues', xticklabels=emotion_labels, yticklabels=emotion_labels)\n",
        "plt.xlabel('Predicted Label')\n",
        "plt.ylabel('True Label')\n",
        "plt.title('Confusion Matrix for Validation Set (with TTA)')\n",
        "plt.show()"
      ],
      "metadata": {
        "colab": {
          "base_uri": "https://localhost:8080/",
          "height": 1000
        },
        "id": "IsbhU-YT7lle",
        "outputId": "0a729ed2-f33f-4990-c02a-d5434c045219"
      },
      "execution_count": 23,
      "outputs": [
        {
          "output_type": "stream",
          "name": "stderr",
          "text": [
            "Evaluating on Validation Set with TTA: 100%|██████████| 90/90 [00:09<00:00,  9.08it/s]\n"
          ]
        },
        {
          "output_type": "stream",
          "name": "stdout",
          "text": [
            "\n",
            "Validation Accuracy (with TTA): 0.6984\n",
            "\n",
            "Classification Report:\n",
            "              precision    recall  f1-score   support\n",
            "\n",
            "       Angry       0.63      0.60      0.62       799\n",
            "     Disgust       0.88      0.48      0.62        87\n",
            "        Fear       0.62      0.43      0.51       820\n",
            "       Happy       0.87      0.90      0.89      1443\n",
            "         Sad       0.58      0.63      0.60       966\n",
            "    Surprise       0.79      0.79      0.79       634\n",
            "     Neutral       0.61      0.72      0.66       993\n",
            "\n",
            "    accuracy                           0.70      5742\n",
            "   macro avg       0.71      0.65      0.67      5742\n",
            "weighted avg       0.70      0.70      0.69      5742\n",
            "\n"
          ]
        },
        {
          "output_type": "display_data",
          "data": {
            "text/plain": [
              "<Figure size 1000x800 with 2 Axes>"
            ],
            "image/png": "[encoded data removed]"
          },
          "metadata": {}
        }
      ]
    },
    {
      "cell_type": "code",
      "source": [
        "import wandb\n",
        "\n",
        "run = wandb.init(\n",
        "    entity=\"zeliz22-free-university-of-tbilisi-\",\n",
        "    project=\"Facial Expression Recognition Challenge\",\n",
        "    name=\"AdvancedEmotionNet\",\n",
        "    tags=[\"CNN\", \"facial-expression\", \"pytorch\", \"BatchNormalization\"],\n",
        "    config={\n",
        "        \"architecture\": \"CNN\",\n",
        "        \"dataset\": \"FER2013\",\n",
        "        \"epochs\": epochs,\n",
        "        \"learning_rate\": learning_rate,\n",
        "        \"optimizer\": \"Adam\",\n",
        "        \"batch_size\": batch_size,\n",
        "        \"epochs\": 50,\n",
        "        \"image_size\": \"48x48\",\n",
        "    }\n",
        ")\n",
        "\n",
        "total_params = sum(p.numel() for p in model.parameters())\n",
        "trainable_params = sum(p.numel() for p in model.parameters() if p.requires_grad)\n",
        "\n",
        "run.log({\n",
        "    \"final_train_accuracy\": 0.74,\n",
        "    \"final_train_loss\": 1,\n",
        "    \"final_val_accuracy\": 0.70,\n",
        "    \"final_val_loss\": 1,\n",
        "    \"total_parameters\": total_params,\n",
        "    \"trainable_parameters\": trainable_params,\n",
        "    \"steps_per_epoch\": len(train_loader),\n",
        "})\n",
        "\n",
        "run.finish()\n",
        "\n",
        "print(\"Model results logged to WandB successfully!\")"
      ],
      "metadata": {
        "colab": {
          "base_uri": "https://localhost:8080/",
          "height": 673
        },
        "id": "rw3qBXbH9Y6V",
        "outputId": "446c26bf-9bed-480b-b528-cda24ccac131"
      },
      "execution_count": 24,
      "outputs": [
        {
          "output_type": "display_data",
          "data": {
            "text/plain": [
              "<IPython.core.display.HTML object>"
            ],
            "text/html": [
              "Tracking run with wandb version 0.19.11"
            ]
          },
          "metadata": {}
        },
        {
          "output_type": "display_data",
          "data": {
            "text/plain": [
              "<IPython.core.display.HTML object>"
            ],
            "text/html": [
              "Run data is saved locally in <code>/content/wandb/run-20250607_224331-ukplld5h</code>"
            ]
          },
          "metadata": {}
        },
        {
          "output_type": "display_data",
          "data": {
            "text/plain": [
              "<IPython.core.display.HTML object>"
            ],
            "text/html": [
              "Syncing run <strong><a href='https://wandb.ai/zeliz22-free-university-of-tbilisi-/Facial%20Expression%20Recognition%20Challenge/runs/ukplld5h' target=\"_blank\">AdvancedEmotionNet</a></strong> to <a href='https://wandb.ai/zeliz22-free-university-of-tbilisi-/Facial%20Expression%20Recognition%20Challenge' target=\"_blank\">Weights & Biases</a> (<a href='https://wandb.me/developer-guide' target=\"_blank\">docs</a>)<br>"
            ]
          },
          "metadata": {}
        },
        {
          "output_type": "display_data",
          "data": {
            "text/plain": [
              "<IPython.core.display.HTML object>"
            ],
            "text/html": [
              " View project at <a href='https://wandb.ai/zeliz22-free-university-of-tbilisi-/Facial%20Expression%20Recognition%20Challenge' target=\"_blank\">https://wandb.ai/zeliz22-free-university-of-tbilisi-/Facial%20Expression%20Recognition%20Challenge</a>"
            ]
          },
          "metadata": {}
        },
        {
          "output_type": "display_data",
          "data": {
            "text/plain": [
              "<IPython.core.display.HTML object>"
            ],
            "text/html": [
              " View run at <a href='https://wandb.ai/zeliz22-free-university-of-tbilisi-/Facial%20Expression%20Recognition%20Challenge/runs/ukplld5h' target=\"_blank\">https://wandb.ai/zeliz22-free-university-of-tbilisi-/Facial%20Expression%20Recognition%20Challenge/runs/ukplld5h</a>"
            ]
          },
          "metadata": {}
        },
        {
          "output_type": "display_data",
          "data": {
            "text/plain": [
              "<IPython.core.display.HTML object>"
            ],
            "text/html": []
          },
          "metadata": {}
        },
        {
          "output_type": "display_data",
          "data": {
            "text/plain": [
              "<IPython.core.display.HTML object>"
            ],
            "text/html": [
              "<br>    <style><br>        .wandb-row {<br>            display: flex;<br>            flex-direction: row;<br>            flex-wrap: wrap;<br>            justify-content: flex-start;<br>            width: 100%;<br>        }<br>        .wandb-col {<br>            display: flex;<br>            flex-direction: column;<br>            flex-basis: 100%;<br>            flex: 1;<br>            padding: 10px;<br>        }<br>    </style><br><div class=\"wandb-row\"><div class=\"wandb-col\"><h3>Run history:</h3><br/><table class=\"wandb\"><tr><td>final_train_accuracy</td><td>▁</td></tr><tr><td>final_train_loss</td><td>▁</td></tr><tr><td>final_val_accuracy</td><td>▁</td></tr><tr><td>final_val_loss</td><td>▁</td></tr><tr><td>steps_per_epoch</td><td>▁</td></tr><tr><td>total_parameters</td><td>▁</td></tr><tr><td>trainable_parameters</td><td>▁</td></tr></table><br/></div><div class=\"wandb-col\"><h3>Run summary:</h3><br/><table class=\"wandb\"><tr><td>final_train_accuracy</td><td>0.74</td></tr><tr><td>final_train_loss</td><td>1</td></tr><tr><td>final_val_accuracy</td><td>0.7</td></tr><tr><td>final_val_loss</td><td>1</td></tr><tr><td>steps_per_epoch</td><td>359</td></tr><tr><td>total_parameters</td><td>6608199</td></tr><tr><td>trainable_parameters</td><td>6608199</td></tr></table><br/></div></div>"
            ]
          },
          "metadata": {}
        },
        {
          "output_type": "display_data",
          "data": {
            "text/plain": [
              "<IPython.core.display.HTML object>"
            ],
            "text/html": [
              " View run <strong style=\"color:#cdcd00\">AdvancedEmotionNet</strong> at: <a href='https://wandb.ai/zeliz22-free-university-of-tbilisi-/Facial%20Expression%20Recognition%20Challenge/runs/ukplld5h' target=\"_blank\">https://wandb.ai/zeliz22-free-university-of-tbilisi-/Facial%20Expression%20Recognition%20Challenge/runs/ukplld5h</a><br> View project at: <a href='https://wandb.ai/zeliz22-free-university-of-tbilisi-/Facial%20Expression%20Recognition%20Challenge' target=\"_blank\">https://wandb.ai/zeliz22-free-university-of-tbilisi-/Facial%20Expression%20Recognition%20Challenge</a><br>Synced 5 W&B file(s), 0 media file(s), 0 artifact file(s) and 0 other file(s)"
            ]
          },
          "metadata": {}
        },
        {
          "output_type": "display_data",
          "data": {
            "text/plain": [
              "<IPython.core.display.HTML object>"
            ],
            "text/html": [
              "Find logs at: <code>./wandb/run-20250607_224331-ukplld5h/logs</code>"
            ]
          },
          "metadata": {}
        },
        {
          "output_type": "stream",
          "name": "stdout",
          "text": [
            "Model results logged to WandB successfully!\n"
          ]
        }
      ]
    }
  ]
}