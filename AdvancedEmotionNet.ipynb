{
  "nbformat": 4,
  "nbformat_minor": 0,
  "metadata": {
    "colab": {
      "provenance": [],
      "gpuType": "T4",
      "authorship_tag": "ABX9TyNH622wGaizNrC4EBYttGeb",
      "include_colab_link": true
    },
    "kernelspec": {
      "name": "python3",
      "display_name": "Python 3"
    },
    "language_info": {
      "name": "python"
    },
    "accelerator": "GPU"
  },
  "cells": [
    {
      "cell_type": "markdown",
      "metadata": {
        "id": "view-in-github",
        "colab_type": "text"
      },
      "source": [
        "<a href=\"https://colab.research.google.com/github/zeliz22/Facial-Expression/blob/main/AdvancedEmotionNet.ipynb\" target=\"_parent\"><img src=\"https://colab.research.google.com/assets/colab-badge.svg\" alt=\"Open In Colab\"/></a>"
      ]
    },
    {
      "cell_type": "code",
      "execution_count": 1,
      "metadata": {
        "colab": {
          "base_uri": "https://localhost:8080/"
        },
        "collapsed": true,
        "id": "a0iel-Cc1Mtd",
        "outputId": "a43982c5-c16a-4ca2-cde7-66b1c30aaca3"
      },
      "outputs": [
        {
          "output_type": "stream",
          "name": "stdout",
          "text": [
            "Requirement already satisfied: kaggle in /usr/local/lib/python3.11/dist-packages (1.7.4.5)\n",
            "Requirement already satisfied: bleach in /usr/local/lib/python3.11/dist-packages (from kaggle) (6.2.0)\n",
            "Requirement already satisfied: certifi>=14.05.14 in /usr/local/lib/python3.11/dist-packages (from kaggle) (2025.4.26)\n",
            "Requirement already satisfied: charset-normalizer in /usr/local/lib/python3.11/dist-packages (from kaggle) (3.4.2)\n",
            "Requirement already satisfied: idna in /usr/local/lib/python3.11/dist-packages (from kaggle) (3.10)\n",
            "Requirement already satisfied: protobuf in /usr/local/lib/python3.11/dist-packages (from kaggle) (5.29.5)\n",
            "Requirement already satisfied: python-dateutil>=2.5.3 in /usr/local/lib/python3.11/dist-packages (from kaggle) (2.9.0.post0)\n",
            "Requirement already satisfied: python-slugify in /usr/local/lib/python3.11/dist-packages (from kaggle) (8.0.4)\n",
            "Requirement already satisfied: requests in /usr/local/lib/python3.11/dist-packages (from kaggle) (2.32.3)\n",
            "Requirement already satisfied: setuptools>=21.0.0 in /usr/local/lib/python3.11/dist-packages (from kaggle) (75.2.0)\n",
            "Requirement already satisfied: six>=1.10 in /usr/local/lib/python3.11/dist-packages (from kaggle) (1.17.0)\n",
            "Requirement already satisfied: text-unidecode in /usr/local/lib/python3.11/dist-packages (from kaggle) (1.3)\n",
            "Requirement already satisfied: tqdm in /usr/local/lib/python3.11/dist-packages (from kaggle) (4.67.1)\n",
            "Requirement already satisfied: urllib3>=1.15.1 in /usr/local/lib/python3.11/dist-packages (from kaggle) (2.4.0)\n",
            "Requirement already satisfied: webencodings in /usr/local/lib/python3.11/dist-packages (from kaggle) (0.5.1)\n",
            "Requirement already satisfied: wandb in /usr/local/lib/python3.11/dist-packages (0.19.11)\n",
            "Requirement already satisfied: click!=8.0.0,>=7.1 in /usr/local/lib/python3.11/dist-packages (from wandb) (8.2.1)\n",
            "Requirement already satisfied: docker-pycreds>=0.4.0 in /usr/local/lib/python3.11/dist-packages (from wandb) (0.4.0)\n",
            "Requirement already satisfied: gitpython!=3.1.29,>=1.0.0 in /usr/local/lib/python3.11/dist-packages (from wandb) (3.1.44)\n",
            "Requirement already satisfied: platformdirs in /usr/local/lib/python3.11/dist-packages (from wandb) (4.3.8)\n",
            "Requirement already satisfied: protobuf!=4.21.0,!=5.28.0,<7,>=3.19.0 in /usr/local/lib/python3.11/dist-packages (from wandb) (5.29.5)\n",
            "Requirement already satisfied: psutil>=5.0.0 in /usr/local/lib/python3.11/dist-packages (from wandb) (5.9.5)\n",
            "Requirement already satisfied: pydantic<3 in /usr/local/lib/python3.11/dist-packages (from wandb) (2.11.5)\n",
            "Requirement already satisfied: pyyaml in /usr/local/lib/python3.11/dist-packages (from wandb) (6.0.2)\n",
            "Requirement already satisfied: requests<3,>=2.0.0 in /usr/local/lib/python3.11/dist-packages (from wandb) (2.32.3)\n",
            "Requirement already satisfied: sentry-sdk>=2.0.0 in /usr/local/lib/python3.11/dist-packages (from wandb) (2.29.1)\n",
            "Requirement already satisfied: setproctitle in /usr/local/lib/python3.11/dist-packages (from wandb) (1.3.6)\n",
            "Requirement already satisfied: setuptools in /usr/local/lib/python3.11/dist-packages (from wandb) (75.2.0)\n",
            "Requirement already satisfied: typing-extensions<5,>=4.4 in /usr/local/lib/python3.11/dist-packages (from wandb) (4.14.0)\n",
            "Requirement already satisfied: six>=1.4.0 in /usr/local/lib/python3.11/dist-packages (from docker-pycreds>=0.4.0->wandb) (1.17.0)\n",
            "Requirement already satisfied: gitdb<5,>=4.0.1 in /usr/local/lib/python3.11/dist-packages (from gitpython!=3.1.29,>=1.0.0->wandb) (4.0.12)\n",
            "Requirement already satisfied: annotated-types>=0.6.0 in /usr/local/lib/python3.11/dist-packages (from pydantic<3->wandb) (0.7.0)\n",
            "Requirement already satisfied: pydantic-core==2.33.2 in /usr/local/lib/python3.11/dist-packages (from pydantic<3->wandb) (2.33.2)\n",
            "Requirement already satisfied: typing-inspection>=0.4.0 in /usr/local/lib/python3.11/dist-packages (from pydantic<3->wandb) (0.4.1)\n",
            "Requirement already satisfied: charset-normalizer<4,>=2 in /usr/local/lib/python3.11/dist-packages (from requests<3,>=2.0.0->wandb) (3.4.2)\n",
            "Requirement already satisfied: idna<4,>=2.5 in /usr/local/lib/python3.11/dist-packages (from requests<3,>=2.0.0->wandb) (3.10)\n",
            "Requirement already satisfied: urllib3<3,>=1.21.1 in /usr/local/lib/python3.11/dist-packages (from requests<3,>=2.0.0->wandb) (2.4.0)\n",
            "Requirement already satisfied: certifi>=2017.4.17 in /usr/local/lib/python3.11/dist-packages (from requests<3,>=2.0.0->wandb) (2025.4.26)\n",
            "Requirement already satisfied: smmap<6,>=3.0.1 in /usr/local/lib/python3.11/dist-packages (from gitdb<5,>=4.0.1->gitpython!=3.1.29,>=1.0.0->wandb) (5.0.2)\n",
            "\u001b[34m\u001b[1mwandb\u001b[0m: \u001b[33mWARNING\u001b[0m Using legacy-service, which is deprecated. If this is unintentional, you can fix it by ensuring you do not call `wandb.require('legacy-service')` and do not set the WANDB_X_REQUIRE_LEGACY_SERVICE environment variable.\n",
            "\u001b[34m\u001b[1mwandb\u001b[0m: Logging into wandb.ai. (Learn how to deploy a W&B server locally: https://wandb.me/wandb-server)\n",
            "\u001b[34m\u001b[1mwandb\u001b[0m: You can find your API key in your browser here: https://wandb.ai/authorize?ref=models\n",
            "\u001b[34m\u001b[1mwandb\u001b[0m: Paste an API key from your profile and hit enter, or press ctrl+c to quit: \n",
            "\u001b[34m\u001b[1mwandb\u001b[0m: No netrc file found, creating one.\n",
            "\u001b[34m\u001b[1mwandb\u001b[0m: Appending key for api.wandb.ai to your netrc file: /root/.netrc\n",
            "\u001b[34m\u001b[1mwandb\u001b[0m: Currently logged in as: \u001b[33mzeliz22\u001b[0m (\u001b[33mzeliz22-free-university-of-tbilisi-\u001b[0m) to \u001b[32mhttps://api.wandb.ai\u001b[0m. Use \u001b[1m`wandb login --relogin`\u001b[0m to force relogin\n"
          ]
        }
      ],
      "source": [
        "!  pip install kaggle\n",
        "! pip install wandb\n",
        "!wandb login"
      ]
    },
    {
      "cell_type": "code",
      "execution_count": 2,
      "metadata": {
        "colab": {
          "base_uri": "https://localhost:8080/"
        },
        "id": "3e2bb02b",
        "outputId": "7cf6e2f2-52b3-4ded-90b2-636d2a0295fc"
      },
      "outputs": [
        {
          "output_type": "stream",
          "name": "stdout",
          "text": [
            "Mounted at /content/drive\n"
          ]
        }
      ],
      "source": [
        "from google.colab import drive\n",
        "drive.mount('/content/drive')"
      ]
    },
    {
      "cell_type": "code",
      "source": [
        "from google.colab import files\n",
        "files.upload()\n",
        "\n"
      ],
      "metadata": {
        "colab": {
          "base_uri": "https://localhost:8080/",
          "height": 89
        },
        "id": "ss7rnxiH11Qm",
        "outputId": "c41b527f-254f-45ab-e68c-f3c668b657b9"
      },
      "execution_count": 3,
      "outputs": [
        {
          "output_type": "display_data",
          "data": {
            "text/plain": [
              "<IPython.core.display.HTML object>"
            ],
            "text/html": [
              "\n",
              "     <input type=\"file\" id=\"files-e9302017-4036-4f62-9e9b-aa4b53524444\" name=\"files[]\" multiple disabled\n",
              "        style=\"border:none\" />\n",
              "     <output id=\"result-e9302017-4036-4f62-9e9b-aa4b53524444\">\n",
              "      Upload widget is only available when the cell has been executed in the\n",
              "      current browser session. Please rerun this cell to enable.\n",
              "      </output>\n",
              "      <script>// Copyright 2017 Google LLC\n",
              "//\n",
              "// Licensed under the Apache License, Version 2.0 (the \"License\");\n",
              "// you may not use this file except in compliance with the License.\n",
              "// You may obtain a copy of the License at\n",
              "//\n",
              "//      http://www.apache.org/licenses/LICENSE-2.0\n",
              "//\n",
              "// Unless required by applicable law or agreed to in writing, software\n",
              "// distributed under the License is distributed on an \"AS IS\" BASIS,\n",
              "// WITHOUT WARRANTIES OR CONDITIONS OF ANY KIND, either express or implied.\n",
              "// See the License for the specific language governing permissions and\n",
              "// limitations under the License.\n",
              "\n",
              "/**\n",
              " * @fileoverview Helpers for google.colab Python module.\n",
              " */\n",
              "(function(scope) {\n",
              "function span(text, styleAttributes = {}) {\n",
              "  const element = document.createElement('span');\n",
              "  element.textContent = text;\n",
              "  for (const key of Object.keys(styleAttributes)) {\n",
              "    element.style[key] = styleAttributes[key];\n",
              "  }\n",
              "  return element;\n",
              "}\n",
              "\n",
              "// Max number of bytes which will be uploaded at a time.\n",
              "const MAX_PAYLOAD_SIZE = 100 * 1024;\n",
              "\n",
              "function _uploadFiles(inputId, outputId) {\n",
              "  const steps = uploadFilesStep(inputId, outputId);\n",
              "  const outputElement = document.getElementById(outputId);\n",
              "  // Cache steps on the outputElement to make it available for the next call\n",
              "  // to uploadFilesContinue from Python.\n",
              "  outputElement.steps = steps;\n",
              "\n",
              "  return _uploadFilesContinue(outputId);\n",
              "}\n",
              "\n",
              "// This is roughly an async generator (not supported in the browser yet),\n",
              "// where there are multiple asynchronous steps and the Python side is going\n",
              "// to poll for completion of each step.\n",
              "// This uses a Promise to block the python side on completion of each step,\n",
              "// then passes the result of the previous step as the input to the next step.\n",
              "function _uploadFilesContinue(outputId) {\n",
              "  const outputElement = document.getElementById(outputId);\n",
              "  const steps = outputElement.steps;\n",
              "\n",
              "  const next = steps.next(outputElement.lastPromiseValue);\n",
              "  return Promise.resolve(next.value.promise).then((value) => {\n",
              "    // Cache the last promise value to make it available to the next\n",
              "    // step of the generator.\n",
              "    outputElement.lastPromiseValue = value;\n",
              "    return next.value.response;\n",
              "  });\n",
              "}\n",
              "\n",
              "/**\n",
              " * Generator function which is called between each async step of the upload\n",
              " * process.\n",
              " * @param {string} inputId Element ID of the input file picker element.\n",
              " * @param {string} outputId Element ID of the output display.\n",
              " * @return {!Iterable<!Object>} Iterable of next steps.\n",
              " */\n",
              "function* uploadFilesStep(inputId, outputId) {\n",
              "  const inputElement = document.getElementById(inputId);\n",
              "  inputElement.disabled = false;\n",
              "\n",
              "  const outputElement = document.getElementById(outputId);\n",
              "  outputElement.innerHTML = '';\n",
              "\n",
              "  const pickedPromise = new Promise((resolve) => {\n",
              "    inputElement.addEventListener('change', (e) => {\n",
              "      resolve(e.target.files);\n",
              "    });\n",
              "  });\n",
              "\n",
              "  const cancel = document.createElement('button');\n",
              "  inputElement.parentElement.appendChild(cancel);\n",
              "  cancel.textContent = 'Cancel upload';\n",
              "  const cancelPromise = new Promise((resolve) => {\n",
              "    cancel.onclick = () => {\n",
              "      resolve(null);\n",
              "    };\n",
              "  });\n",
              "\n",
              "  // Wait for the user to pick the files.\n",
              "  const files = yield {\n",
              "    promise: Promise.race([pickedPromise, cancelPromise]),\n",
              "    response: {\n",
              "      action: 'starting',\n",
              "    }\n",
              "  };\n",
              "\n",
              "  cancel.remove();\n",
              "\n",
              "  // Disable the input element since further picks are not allowed.\n",
              "  inputElement.disabled = true;\n",
              "\n",
              "  if (!files) {\n",
              "    return {\n",
              "      response: {\n",
              "        action: 'complete',\n",
              "      }\n",
              "    };\n",
              "  }\n",
              "\n",
              "  for (const file of files) {\n",
              "    const li = document.createElement('li');\n",
              "    li.append(span(file.name, {fontWeight: 'bold'}));\n",
              "    li.append(span(\n",
              "        `(${file.type || 'n/a'}) - ${file.size} bytes, ` +\n",
              "        `last modified: ${\n",
              "            file.lastModifiedDate ? file.lastModifiedDate.toLocaleDateString() :\n",
              "                                    'n/a'} - `));\n",
              "    const percent = span('0% done');\n",
              "    li.appendChild(percent);\n",
              "\n",
              "    outputElement.appendChild(li);\n",
              "\n",
              "    const fileDataPromise = new Promise((resolve) => {\n",
              "      const reader = new FileReader();\n",
              "      reader.onload = (e) => {\n",
              "        resolve(e.target.result);\n",
              "      };\n",
              "      reader.readAsArrayBuffer(file);\n",
              "    });\n",
              "    // Wait for the data to be ready.\n",
              "    let fileData = yield {\n",
              "      promise: fileDataPromise,\n",
              "      response: {\n",
              "        action: 'continue',\n",
              "      }\n",
              "    };\n",
              "\n",
              "    // Use a chunked sending to avoid message size limits. See b/62115660.\n",
              "    let position = 0;\n",
              "    do {\n",
              "      const length = Math.min(fileData.byteLength - position, MAX_PAYLOAD_SIZE);\n",
              "      const chunk = new Uint8Array(fileData, position, length);\n",
              "      position += length;\n",
              "\n",
              "      const base64 = btoa(String.fromCharCode.apply(null, chunk));\n",
              "      yield {\n",
              "        response: {\n",
              "          action: 'append',\n",
              "          file: file.name,\n",
              "          data: base64,\n",
              "        },\n",
              "      };\n",
              "\n",
              "      let percentDone = fileData.byteLength === 0 ?\n",
              "          100 :\n",
              "          Math.round((position / fileData.byteLength) * 100);\n",
              "      percent.textContent = `${percentDone}% done`;\n",
              "\n",
              "    } while (position < fileData.byteLength);\n",
              "  }\n",
              "\n",
              "  // All done.\n",
              "  yield {\n",
              "    response: {\n",
              "      action: 'complete',\n",
              "    }\n",
              "  };\n",
              "}\n",
              "\n",
              "scope.google = scope.google || {};\n",
              "scope.google.colab = scope.google.colab || {};\n",
              "scope.google.colab._files = {\n",
              "  _uploadFiles,\n",
              "  _uploadFilesContinue,\n",
              "};\n",
              "})(self);\n",
              "</script> "
            ]
          },
          "metadata": {}
        },
        {
          "output_type": "stream",
          "name": "stdout",
          "text": [
            "Saving kaggle.json to kaggle.json\n"
          ]
        },
        {
          "output_type": "execute_result",
          "data": {
            "text/plain": [
              "{'kaggle.json': b'{\"username\":\"zazaelizbarashvili\",\"key\":\"3422f18d69545d5f43297b0e7bfb79f8\"}'}"
            ]
          },
          "metadata": {},
          "execution_count": 3
        }
      ]
    },
    {
      "cell_type": "code",
      "source": [
        "!mkdir -p ~/.kaggle\n",
        "!cp kaggle.json ~/.kaggle/\n",
        "!chmod 600 ~/.kaggle/kaggle.json\n",
        "!kaggle competitions download -c challenges-in-representation-learning-facial-expression-recognition-challenge\n",
        "!unzip challenges-in-representation-learning-facial-expression-recognition-challenge.zip\n"
      ],
      "metadata": {
        "colab": {
          "base_uri": "https://localhost:8080/"
        },
        "collapsed": true,
        "id": "_qjXp76Q16HJ",
        "outputId": "032895be-91dd-4ecf-de53-0b228b68167a"
      },
      "execution_count": 4,
      "outputs": [
        {
          "output_type": "stream",
          "name": "stdout",
          "text": [
            "Downloading challenges-in-representation-learning-facial-expression-recognition-challenge.zip to /content\n",
            " 99% 283M/285M [00:00<00:00, 391MB/s]\n",
            "100% 285M/285M [00:00<00:00, 405MB/s]\n",
            "Archive:  challenges-in-representation-learning-facial-expression-recognition-challenge.zip\n",
            "  inflating: example_submission.csv  \n",
            "  inflating: fer2013.tar.gz          \n",
            "  inflating: icml_face_data.csv      \n",
            "  inflating: test.csv                \n",
            "  inflating: train.csv               \n"
          ]
        }
      ]
    },
    {
      "cell_type": "code",
      "source": [
        "# Cell 1: Setup and Data Loading\n",
        "import torch\n",
        "import torch.nn as nn\n",
        "import torch.optim as optim\n",
        "import torch.nn.functional as F\n",
        "from torch.utils.data import Dataset, DataLoader\n",
        "import pandas as pd\n",
        "import numpy as np\n",
        "import matplotlib.pyplot as plt\n",
        "from sklearn.model_selection import train_test_split\n",
        "from sklearn.metrics import accuracy_score, classification_report, confusion_matrix\n",
        "import seaborn as sns\n",
        "from tqdm import tqdm\n",
        "import warnings\n",
        "warnings.filterwarnings('ignore')\n",
        "\n",
        "# Set device\n",
        "device = torch.device('cuda' if torch.cuda.is_available() else 'cpu')\n",
        "print(f'Using device: {device}')\n",
        "\n",
        "# Load the data\n",
        "train_df = pd.read_csv('/content/train.csv')\n",
        "test_df = pd.read_csv('/content/test.csv')\n",
        "\n",
        "print(f\"Training data shape: {train_df.shape}\")\n",
        "print(f\"Test data shape: {test_df.shape}\")\n",
        "print(f\"Unique emotions: {sorted(train_df['emotion'].unique())}\")\n",
        "\n",
        "# Check class distribution\n",
        "emotion_counts = train_df['emotion'].value_counts().sort_index()\n",
        "emotion_labels = ['Angry', 'Disgust', 'Fear', 'Happy', 'Sad', 'Surprise', 'Neutral']\n",
        "print(\"\\nEmotion distribution:\")\n",
        "for i, count in emotion_counts.items():\n",
        "    print(f\"{i} ({emotion_labels[i]}): {count}\")\n",
        "\n",
        "# Visualize class distribution\n",
        "plt.figure(figsize=(10, 6))\n",
        "plt.bar(range(7), emotion_counts.values)\n",
        "plt.xticks(range(7), emotion_labels, rotation=45)\n",
        "plt.title('Distribution of Emotions in Training Data')\n",
        "plt.ylabel('Count')\n",
        "plt.show()"
      ],
      "metadata": {
        "colab": {
          "base_uri": "https://localhost:8080/",
          "height": 807
        },
        "collapsed": true,
        "id": "uhH0LneE2KP4",
        "outputId": "c14f2307-13e5-4568-bc05-0d00448bc72c"
      },
      "execution_count": 5,
      "outputs": [
        {
          "output_type": "stream",
          "name": "stdout",
          "text": [
            "Using device: cuda\n",
            "Training data shape: (28709, 2)\n",
            "Test data shape: (7178, 1)\n",
            "Unique emotions: [np.int64(0), np.int64(1), np.int64(2), np.int64(3), np.int64(4), np.int64(5), np.int64(6)]\n",
            "\n",
            "Emotion distribution:\n",
            "0 (Angry): 3995\n",
            "1 (Disgust): 436\n",
            "2 (Fear): 4097\n",
            "3 (Happy): 7215\n",
            "4 (Sad): 4830\n",
            "5 (Surprise): 3171\n",
            "6 (Neutral): 4965\n"
          ]
        },
        {
          "output_type": "display_data",
          "data": {
            "text/plain": [
              "<Figure size 1000x600 with 1 Axes>"
            ],
            "image/png": "[encoded data removed]"
          },
          "metadata": {}
        }
      ]
    },
    {
      "cell_type": "code",
      "source": [
        "# Cell 2: Custom Dataset and Data Transformation\n",
        "from torchvision import transforms\n",
        "\n",
        "class FacialExpressionDataset(Dataset):\n",
        "    def __init__(self, df, transform=None):\n",
        "        self.df = df\n",
        "        self.transform = transform\n",
        "        self.pixels = df['pixels'].apply(lambda x: np.array(x.split(' '), dtype=np.uint8).reshape(48, 48)).tolist()\n",
        "        self.emotions = df['emotion'].tolist() if 'emotion' in df.columns else None\n",
        "\n",
        "    def __len__(self):\n",
        "        return len(self.df)\n",
        "\n",
        "    def __getitem__(self, idx):\n",
        "        image = self.pixels[idx]\n",
        "        image = Image.fromarray(image) # Convert numpy array to PIL Image for torchvision transforms\n",
        "\n",
        "        if self.transform:\n",
        "            image = self.transform(image)\n",
        "\n",
        "        if self.emotions is not None:\n",
        "            emotion = self.emotions[idx]\n",
        "            return image, torch.tensor(emotion, dtype=torch.long)\n",
        "        else:\n",
        "            return image\n",
        "\n",
        "# Define transformations\n",
        "# Training transforms with augmentation\n",
        "train_transforms = transforms.Compose([\n",
        "    transforms.RandomRotation(10),\n",
        "    transforms.RandomHorizontalFlip(),\n",
        "    transforms.RandomAffine(degrees=0, translate=(0.1, 0.1), scale=(0.9, 1.1)),\n",
        "    transforms.Grayscale(num_output_channels=1), # Ensure grayscale\n",
        "    transforms.ToTensor(),\n",
        "    transforms.Normalize(mean=[0.5], std=[0.5]) # Normalize pixel values to [-1, 1]\n",
        "])\n",
        "\n",
        "# Validation/Test transforms (no augmentation, just normalization)\n",
        "val_test_transforms = transforms.Compose([\n",
        "    transforms.Grayscale(num_output_channels=1), # Ensure grayscale\n",
        "    transforms.ToTensor(),\n",
        "    transforms.Normalize(mean=[0.5], std=[0.5]) # Normalize pixel values to [-1, 1]\n",
        "])"
      ],
      "metadata": {
        "collapsed": true,
        "id": "FJ-Yvntq2XH5"
      },
      "execution_count": 6,
      "outputs": []
    },
    {
      "cell_type": "code",
      "source": [
        "# Cell 3: Data Splitting and DataLoader Creation\n",
        "from PIL import Image # Import PIL Image for torchvision transforms\n",
        "\n",
        "# Split training data for validation\n",
        "train_data, val_data = train_test_split(train_df, test_size=0.2, random_state=42, stratify=train_df['emotion'])\n",
        "\n",
        "# Create datasets\n",
        "train_dataset = FacialExpressionDataset(train_data, transform=train_transforms)\n",
        "val_dataset = FacialExpressionDataset(val_data, transform=val_test_transforms)\n",
        "test_dataset = FacialExpressionDataset(test_df, transform=val_test_transforms) # For actual Kaggle submission\n",
        "\n",
        "# Create DataLoaders\n",
        "batch_size = 64\n",
        "train_loader = DataLoader(train_dataset, batch_size=batch_size, shuffle=True, num_workers=2, pin_memory=True)\n",
        "val_loader = DataLoader(val_dataset, batch_size=batch_size, shuffle=False, num_workers=2, pin_memory=True)\n",
        "test_loader = DataLoader(test_dataset, batch_size=batch_size, shuffle=False, num_workers=2, pin_memory=True) # For actual Kaggle submission\n",
        "\n",
        "print(f\"Number of training samples: {len(train_dataset)}\")\n",
        "print(f\"Number of validation samples: {len(val_dataset)}\")\n",
        "print(f\"Number of test samples: {len(test_dataset)}\")\n",
        "\n",
        "# Example of a transformed image\n",
        "# for images, labels in train_loader:\n",
        "#     print(f\"Image batch shape: {images.shape}\")\n",
        "#     print(f\"Label batch shape: {labels.shape}\")\n",
        "#     plt.imshow(images[0].squeeze().cpu().numpy(), cmap='gray')\n",
        "#     plt.title(f\"Example transformed image (emotion: {labels[0].item()})\")\n",
        "#     plt.show()\n",
        "#     break"
      ],
      "metadata": {
        "colab": {
          "base_uri": "https://localhost:8080/"
        },
        "id": "1Jvxks1mLXCN",
        "outputId": "67b8aa79-ffdf-488c-ae5d-6d58f793d4f2"
      },
      "execution_count": 7,
      "outputs": [
        {
          "output_type": "stream",
          "name": "stdout",
          "text": [
            "Number of training samples: 22967\n",
            "Number of validation samples: 5742\n",
            "Number of test samples: 7178\n"
          ]
        }
      ]
    },
    {
      "cell_type": "code",
      "source": [
        "# Cell 4: Define the CNN Model\n",
        "class ComplexCNN(nn.Module):\n",
        "    def __init__(self, num_classes=7):\n",
        "        super(ComplexCNN, self).__init__()\n",
        "        # Block 1\n",
        "        self.conv1 = nn.Conv2d(in_channels=1, out_channels=32, kernel_size=3, padding=1)\n",
        "        self.bn1 = nn.BatchNorm2d(32)\n",
        "        self.conv2 = nn.Conv2d(in_channels=32, out_channels=64, kernel_size=3, padding=1)\n",
        "        self.bn2 = nn.BatchNorm2d(64)\n",
        "        self.pool1 = nn.MaxPool2d(kernel_size=2, stride=2)\n",
        "        self.dropout1 = nn.Dropout(0.25)\n",
        "\n",
        "        # Block 2\n",
        "        self.conv3 = nn.Conv2d(in_channels=64, out_channels=128, kernel_size=3, padding=1)\n",
        "        self.bn3 = nn.BatchNorm2d(128)\n",
        "        self.conv4 = nn.Conv2d(in_channels=128, out_channels=128, kernel_size=3, padding=1)\n",
        "        self.bn4 = nn.BatchNorm2d(128)\n",
        "        self.pool2 = nn.MaxPool2d(kernel_size=2, stride=2)\n",
        "        self.dropout2 = nn.Dropout(0.25)\n",
        "\n",
        "        # Block 3\n",
        "        self.conv5 = nn.Conv2d(in_channels=128, out_channels=256, kernel_size=3, padding=1)\n",
        "        self.bn5 = nn.BatchNorm2d(256)\n",
        "        self.conv6 = nn.Conv2d(in_channels=256, out_channels=256, kernel_size=3, padding=1)\n",
        "        self.bn6 = nn.BatchNorm2d(256)\n",
        "        self.pool3 = nn.MaxPool2d(kernel_size=2, stride=2)\n",
        "        self.dropout3 = nn.Dropout(0.25)\n",
        "\n",
        "        # Fully Connected Layers\n",
        "        # Calculate input features to the first FC layer\n",
        "        # 48x48 image -> 24x24 (pool1) -> 12x12 (pool2) -> 6x6 (pool3)\n",
        "        self.fc1 = nn.Linear(256 * 6 * 6, 512)\n",
        "        self.bn_fc1 = nn.BatchNorm1d(512)\n",
        "        self.dropout_fc1 = nn.Dropout(0.5)\n",
        "        self.fc2 = nn.Linear(512, num_classes)\n",
        "\n",
        "    def forward(self, x):\n",
        "        # Block 1\n",
        "        x = F.relu(self.bn1(self.conv1(x)))\n",
        "        x = F.relu(self.bn2(self.conv2(x)))\n",
        "        x = self.pool1(x)\n",
        "        x = self.dropout1(x)\n",
        "\n",
        "        # Block 2\n",
        "        x = F.relu(self.bn3(self.conv3(x)))\n",
        "        x = F.relu(self.bn4(self.conv4(x)))\n",
        "        x = self.pool2(x)\n",
        "        x = self.dropout2(x)\n",
        "\n",
        "        # Block 3\n",
        "        x = F.relu(self.bn5(self.conv5(x)))\n",
        "        x = F.relu(self.bn6(self.conv6(x)))\n",
        "        x = self.pool3(x)\n",
        "        x = self.dropout3(x)\n",
        "\n",
        "        # Flatten\n",
        "        x = x.view(x.size(0), -1)\n",
        "\n",
        "        # Fully Connected Layers\n",
        "        x = F.relu(self.bn_fc1(self.fc1(x)))\n",
        "        x = self.dropout_fc1(x)\n",
        "        x = self.fc2(x)\n",
        "        return x\n",
        "\n",
        "model = ComplexCNN(num_classes=7).to(device)\n",
        "print(model)"
      ],
      "metadata": {
        "colab": {
          "base_uri": "https://localhost:8080/"
        },
        "collapsed": true,
        "id": "ufN1oOBo2jZL",
        "outputId": "7962118f-fe95-4397-ed51-6f0e359a6402"
      },
      "execution_count": 8,
      "outputs": [
        {
          "output_type": "stream",
          "name": "stdout",
          "text": [
            "ComplexCNN(\n",
            "  (conv1): Conv2d(1, 32, kernel_size=(3, 3), stride=(1, 1), padding=(1, 1))\n",
            "  (bn1): BatchNorm2d(32, eps=1e-05, momentum=0.1, affine=True, track_running_stats=True)\n",
            "  (conv2): Conv2d(32, 64, kernel_size=(3, 3), stride=(1, 1), padding=(1, 1))\n",
            "  (bn2): BatchNorm2d(64, eps=1e-05, momentum=0.1, affine=True, track_running_stats=True)\n",
            "  (pool1): MaxPool2d(kernel_size=2, stride=2, padding=0, dilation=1, ceil_mode=False)\n",
            "  (dropout1): Dropout(p=0.25, inplace=False)\n",
            "  (conv3): Conv2d(64, 128, kernel_size=(3, 3), stride=(1, 1), padding=(1, 1))\n",
            "  (bn3): BatchNorm2d(128, eps=1e-05, momentum=0.1, affine=True, track_running_stats=True)\n",
            "  (conv4): Conv2d(128, 128, kernel_size=(3, 3), stride=(1, 1), padding=(1, 1))\n",
            "  (bn4): BatchNorm2d(128, eps=1e-05, momentum=0.1, affine=True, track_running_stats=True)\n",
            "  (pool2): MaxPool2d(kernel_size=2, stride=2, padding=0, dilation=1, ceil_mode=False)\n",
            "  (dropout2): Dropout(p=0.25, inplace=False)\n",
            "  (conv5): Conv2d(128, 256, kernel_size=(3, 3), stride=(1, 1), padding=(1, 1))\n",
            "  (bn5): BatchNorm2d(256, eps=1e-05, momentum=0.1, affine=True, track_running_stats=True)\n",
            "  (conv6): Conv2d(256, 256, kernel_size=(3, 3), stride=(1, 1), padding=(1, 1))\n",
            "  (bn6): BatchNorm2d(256, eps=1e-05, momentum=0.1, affine=True, track_running_stats=True)\n",
            "  (pool3): MaxPool2d(kernel_size=2, stride=2, padding=0, dilation=1, ceil_mode=False)\n",
            "  (dropout3): Dropout(p=0.25, inplace=False)\n",
            "  (fc1): Linear(in_features=9216, out_features=512, bias=True)\n",
            "  (bn_fc1): BatchNorm1d(512, eps=1e-05, momentum=0.1, affine=True, track_running_stats=True)\n",
            "  (dropout_fc1): Dropout(p=0.5, inplace=False)\n",
            "  (fc2): Linear(in_features=512, out_features=7, bias=True)\n",
            ")\n"
          ]
        }
      ]
    },
    {
      "cell_type": "code",
      "source": [
        "# Cell 5: Training Function\n",
        "from torch.optim.lr_scheduler import ReduceLROnPlateau\n",
        "\n",
        "def train_model(model, train_loader, val_loader, epochs, learning_rate, patience=10):\n",
        "    criterion = nn.CrossEntropyLoss()\n",
        "    optimizer = optim.Adam(model.parameters(), lr=learning_rate)\n",
        "    scheduler = ReduceLROnPlateau(optimizer, mode='max', factor=0.5, patience=5, verbose=True)\n",
        "\n",
        "    history = {'train_loss': [], 'train_acc': [], 'val_loss': [], 'val_acc': []}\n",
        "    best_val_accuracy = 0.0\n",
        "    epochs_no_improve = 0\n",
        "\n",
        "    for epoch in range(epochs):\n",
        "        model.train()\n",
        "        running_loss = 0.0\n",
        "        correct_train = 0\n",
        "        total_train = 0\n",
        "\n",
        "        for images, labels in tqdm(train_loader, desc=f\"Epoch {epoch+1}/{epochs} (Train)\"):\n",
        "            images, labels = images.to(device), labels.to(device)\n",
        "\n",
        "            optimizer.zero_grad()\n",
        "            outputs = model(images)\n",
        "            loss = criterion(outputs, labels)\n",
        "            loss.backward()\n",
        "            optimizer.step()\n",
        "\n",
        "            running_loss += loss.item()\n",
        "            _, predicted = torch.max(outputs.data, 1)\n",
        "            total_train += labels.size(0)\n",
        "            correct_train += (predicted == labels).sum().item()\n",
        "\n",
        "        epoch_train_loss = running_loss / len(train_loader)\n",
        "        epoch_train_acc = correct_train / total_train\n",
        "        history['train_loss'].append(epoch_train_loss)\n",
        "        history['train_acc'].append(epoch_train_acc)\n",
        "\n",
        "        # Validation phase\n",
        "        model.eval()\n",
        "        val_loss = 0.0\n",
        "        correct_val = 0\n",
        "        total_val = 0\n",
        "        with torch.no_grad():\n",
        "            for images, labels in tqdm(val_loader, desc=f\"Epoch {epoch+1}/{epochs} (Val)\"):\n",
        "                images, labels = images.to(device), labels.to(device)\n",
        "                outputs = model(images)\n",
        "                loss = criterion(outputs, labels)\n",
        "\n",
        "                val_loss += loss.item()\n",
        "                _, predicted = torch.max(outputs.data, 1)\n",
        "                total_val += labels.size(0)\n",
        "                correct_val += (predicted == labels).sum().item()\n",
        "\n",
        "        epoch_val_loss = val_loss / len(val_loader)\n",
        "        epoch_val_acc = correct_val / total_val\n",
        "        history['val_loss'].append(epoch_val_loss)\n",
        "        history['val_acc'].append(epoch_val_acc)\n",
        "\n",
        "        print(f\"Epoch {epoch+1}/{epochs} - Train Loss: {epoch_train_loss:.4f}, Train Acc: {epoch_train_acc:.4f}, \"\n",
        "              f\"Val Loss: {epoch_val_loss:.4f}, Val Acc: {epoch_val_acc:.4f}\")\n",
        "\n",
        "        # Learning rate scheduler step\n",
        "        scheduler.step(epoch_val_acc)\n",
        "\n",
        "        # Early stopping check\n",
        "        if epoch_val_acc > best_val_accuracy:\n",
        "            best_val_accuracy = epoch_val_acc\n",
        "            epochs_no_improve = 0\n",
        "            torch.save(model.state_dict(), 'best_model.pth') # Save the best model\n",
        "            print(\"Best validation accuracy achieved. Model saved.\")\n",
        "        else:\n",
        "            epochs_no_improve += 1\n",
        "            if epochs_no_improve == patience:\n",
        "                print(f\"Early stopping triggered after {patience} epochs with no improvement.\")\n",
        "                break\n",
        "    return history\n"
      ],
      "metadata": {
        "id": "ZMUvT6mj2ouO"
      },
      "execution_count": 12,
      "outputs": []
    },
    {
      "cell_type": "code",
      "source": [
        "# Cell 6: Run Training\n",
        "epochs = 50 # You might need to increase this, but early stopping will manage it\n",
        "learning_rate = 0.001\n",
        "\n",
        "print(f\"Starting training for {epochs} epochs with learning rate {learning_rate}...\")\n",
        "history = train_model(model, train_loader, val_loader, epochs, learning_rate, patience=10)"
      ],
      "metadata": {
        "colab": {
          "base_uri": "https://localhost:8080/"
        },
        "id": "S0eVFvczNBMN",
        "outputId": "bfd8c474-44bd-427a-ba25-1b13fc2b1082"
      },
      "execution_count": 13,
      "outputs": [
        {
          "output_type": "stream",
          "name": "stdout",
          "text": [
            "Starting training for 50 epochs with learning rate 0.001...\n"
          ]
        },
        {
          "output_type": "stream",
          "name": "stderr",
          "text": [
            "Epoch 1/50 (Train): 100%|██████████| 359/359 [00:14<00:00, 24.23it/s]\n",
            "Epoch 1/50 (Val): 100%|██████████| 90/90 [00:01<00:00, 60.03it/s]\n"
          ]
        },
        {
          "output_type": "stream",
          "name": "stdout",
          "text": [
            "Epoch 1/50 - Train Loss: 1.6877, Train Acc: 0.3313, Val Loss: 1.4135, Val Acc: 0.4587\n",
            "Best validation accuracy achieved. Model saved.\n"
          ]
        },
        {
          "output_type": "stream",
          "name": "stderr",
          "text": [
            "Epoch 2/50 (Train): 100%|██████████| 359/359 [00:13<00:00, 26.56it/s]\n",
            "Epoch 2/50 (Val): 100%|██████████| 90/90 [00:01<00:00, 61.52it/s]\n"
          ]
        },
        {
          "output_type": "stream",
          "name": "stdout",
          "text": [
            "Epoch 2/50 - Train Loss: 1.4098, Train Acc: 0.4540, Val Loss: 1.2428, Val Acc: 0.5225\n",
            "Best validation accuracy achieved. Model saved.\n"
          ]
        },
        {
          "output_type": "stream",
          "name": "stderr",
          "text": [
            "Epoch 3/50 (Train): 100%|██████████| 359/359 [00:13<00:00, 26.51it/s]\n",
            "Epoch 3/50 (Val): 100%|██████████| 90/90 [00:01<00:00, 61.67it/s]\n"
          ]
        },
        {
          "output_type": "stream",
          "name": "stdout",
          "text": [
            "Epoch 3/50 - Train Loss: 1.3046, Train Acc: 0.5009, Val Loss: 1.2305, Val Acc: 0.5345\n",
            "Best validation accuracy achieved. Model saved.\n"
          ]
        },
        {
          "output_type": "stream",
          "name": "stderr",
          "text": [
            "Epoch 4/50 (Train): 100%|██████████| 359/359 [00:13<00:00, 26.67it/s]\n",
            "Epoch 4/50 (Val): 100%|██████████| 90/90 [00:01<00:00, 62.09it/s]\n"
          ]
        },
        {
          "output_type": "stream",
          "name": "stdout",
          "text": [
            "Epoch 4/50 - Train Loss: 1.2684, Train Acc: 0.5169, Val Loss: 1.1457, Val Acc: 0.5650\n",
            "Best validation accuracy achieved. Model saved.\n"
          ]
        },
        {
          "output_type": "stream",
          "name": "stderr",
          "text": [
            "Epoch 5/50 (Train): 100%|██████████| 359/359 [00:13<00:00, 26.85it/s]\n",
            "Epoch 5/50 (Val): 100%|██████████| 90/90 [00:01<00:00, 62.47it/s]\n"
          ]
        },
        {
          "output_type": "stream",
          "name": "stdout",
          "text": [
            "Epoch 5/50 - Train Loss: 1.2211, Train Acc: 0.5359, Val Loss: 1.0896, Val Acc: 0.5871\n",
            "Best validation accuracy achieved. Model saved.\n"
          ]
        },
        {
          "output_type": "stream",
          "name": "stderr",
          "text": [
            "Epoch 6/50 (Train): 100%|██████████| 359/359 [00:14<00:00, 25.61it/s]\n",
            "Epoch 6/50 (Val): 100%|██████████| 90/90 [00:01<00:00, 60.09it/s]\n"
          ]
        },
        {
          "output_type": "stream",
          "name": "stdout",
          "text": [
            "Epoch 6/50 - Train Loss: 1.1822, Train Acc: 0.5501, Val Loss: 1.0612, Val Acc: 0.5987\n",
            "Best validation accuracy achieved. Model saved.\n"
          ]
        },
        {
          "output_type": "stream",
          "name": "stderr",
          "text": [
            "Epoch 7/50 (Train): 100%|██████████| 359/359 [00:13<00:00, 26.47it/s]\n",
            "Epoch 7/50 (Val): 100%|██████████| 90/90 [00:01<00:00, 57.89it/s]\n"
          ]
        },
        {
          "output_type": "stream",
          "name": "stdout",
          "text": [
            "Epoch 7/50 - Train Loss: 1.1629, Train Acc: 0.5571, Val Loss: 1.0580, Val Acc: 0.5974\n"
          ]
        },
        {
          "output_type": "stream",
          "name": "stderr",
          "text": [
            "Epoch 8/50 (Train): 100%|██████████| 359/359 [00:13<00:00, 26.11it/s]\n",
            "Epoch 8/50 (Val): 100%|██████████| 90/90 [00:01<00:00, 49.23it/s]\n"
          ]
        },
        {
          "output_type": "stream",
          "name": "stdout",
          "text": [
            "Epoch 8/50 - Train Loss: 1.1400, Train Acc: 0.5702, Val Loss: 1.0674, Val Acc: 0.5904\n"
          ]
        },
        {
          "output_type": "stream",
          "name": "stderr",
          "text": [
            "Epoch 9/50 (Train): 100%|██████████| 359/359 [00:13<00:00, 26.73it/s]\n",
            "Epoch 9/50 (Val): 100%|██████████| 90/90 [00:02<00:00, 38.02it/s]\n"
          ]
        },
        {
          "output_type": "stream",
          "name": "stdout",
          "text": [
            "Epoch 9/50 - Train Loss: 1.1179, Train Acc: 0.5739, Val Loss: 1.0285, Val Acc: 0.6064\n",
            "Best validation accuracy achieved. Model saved.\n"
          ]
        },
        {
          "output_type": "stream",
          "name": "stderr",
          "text": [
            "Epoch 10/50 (Train): 100%|██████████| 359/359 [00:13<00:00, 27.12it/s]\n",
            "Epoch 10/50 (Val): 100%|██████████| 90/90 [00:02<00:00, 36.75it/s]\n"
          ]
        },
        {
          "output_type": "stream",
          "name": "stdout",
          "text": [
            "Epoch 10/50 - Train Loss: 1.0920, Train Acc: 0.5871, Val Loss: 1.0378, Val Acc: 0.6080\n",
            "Best validation accuracy achieved. Model saved.\n"
          ]
        },
        {
          "output_type": "stream",
          "name": "stderr",
          "text": [
            "Epoch 11/50 (Train): 100%|██████████| 359/359 [00:13<00:00, 27.05it/s]\n",
            "Epoch 11/50 (Val): 100%|██████████| 90/90 [00:02<00:00, 41.46it/s]\n"
          ]
        },
        {
          "output_type": "stream",
          "name": "stdout",
          "text": [
            "Epoch 11/50 - Train Loss: 1.0818, Train Acc: 0.5920, Val Loss: 1.0771, Val Acc: 0.6000\n"
          ]
        },
        {
          "output_type": "stream",
          "name": "stderr",
          "text": [
            "Epoch 12/50 (Train): 100%|██████████| 359/359 [00:13<00:00, 26.56it/s]\n",
            "Epoch 12/50 (Val): 100%|██████████| 90/90 [00:01<00:00, 51.54it/s]\n"
          ]
        },
        {
          "output_type": "stream",
          "name": "stdout",
          "text": [
            "Epoch 12/50 - Train Loss: 1.0664, Train Acc: 0.5987, Val Loss: 0.9977, Val Acc: 0.6172\n",
            "Best validation accuracy achieved. Model saved.\n"
          ]
        },
        {
          "output_type": "stream",
          "name": "stderr",
          "text": [
            "Epoch 13/50 (Train): 100%|██████████| 359/359 [00:14<00:00, 25.20it/s]\n",
            "Epoch 13/50 (Val): 100%|██████████| 90/90 [00:01<00:00, 60.26it/s]\n"
          ]
        },
        {
          "output_type": "stream",
          "name": "stdout",
          "text": [
            "Epoch 13/50 - Train Loss: 1.0576, Train Acc: 0.6002, Val Loss: 0.9840, Val Acc: 0.6238\n",
            "Best validation accuracy achieved. Model saved.\n"
          ]
        },
        {
          "output_type": "stream",
          "name": "stderr",
          "text": [
            "Epoch 14/50 (Train): 100%|██████████| 359/359 [00:13<00:00, 26.13it/s]\n",
            "Epoch 14/50 (Val): 100%|██████████| 90/90 [00:01<00:00, 60.02it/s]\n"
          ]
        },
        {
          "output_type": "stream",
          "name": "stdout",
          "text": [
            "Epoch 14/50 - Train Loss: 1.0444, Train Acc: 0.6067, Val Loss: 0.9531, Val Acc: 0.6418\n",
            "Best validation accuracy achieved. Model saved.\n"
          ]
        },
        {
          "output_type": "stream",
          "name": "stderr",
          "text": [
            "Epoch 15/50 (Train): 100%|██████████| 359/359 [00:13<00:00, 26.31it/s]\n",
            "Epoch 15/50 (Val): 100%|██████████| 90/90 [00:01<00:00, 60.65it/s]\n"
          ]
        },
        {
          "output_type": "stream",
          "name": "stdout",
          "text": [
            "Epoch 15/50 - Train Loss: 1.0352, Train Acc: 0.6126, Val Loss: 0.9642, Val Acc: 0.6358\n"
          ]
        },
        {
          "output_type": "stream",
          "name": "stderr",
          "text": [
            "Epoch 16/50 (Train): 100%|██████████| 359/359 [00:13<00:00, 26.10it/s]\n",
            "Epoch 16/50 (Val): 100%|██████████| 90/90 [00:01<00:00, 60.42it/s]\n"
          ]
        },
        {
          "output_type": "stream",
          "name": "stdout",
          "text": [
            "Epoch 16/50 - Train Loss: 1.0171, Train Acc: 0.6162, Val Loss: 0.9468, Val Acc: 0.6407\n"
          ]
        },
        {
          "output_type": "stream",
          "name": "stderr",
          "text": [
            "Epoch 17/50 (Train): 100%|██████████| 359/359 [00:13<00:00, 26.38it/s]\n",
            "Epoch 17/50 (Val): 100%|██████████| 90/90 [00:01<00:00, 59.56it/s]\n"
          ]
        },
        {
          "output_type": "stream",
          "name": "stdout",
          "text": [
            "Epoch 17/50 - Train Loss: 1.0139, Train Acc: 0.6195, Val Loss: 0.9276, Val Acc: 0.6480\n",
            "Best validation accuracy achieved. Model saved.\n"
          ]
        },
        {
          "output_type": "stream",
          "name": "stderr",
          "text": [
            "Epoch 18/50 (Train): 100%|██████████| 359/359 [00:13<00:00, 26.03it/s]\n",
            "Epoch 18/50 (Val): 100%|██████████| 90/90 [00:01<00:00, 60.72it/s]\n"
          ]
        },
        {
          "output_type": "stream",
          "name": "stdout",
          "text": [
            "Epoch 18/50 - Train Loss: 0.9978, Train Acc: 0.6219, Val Loss: 0.9645, Val Acc: 0.6348\n"
          ]
        },
        {
          "output_type": "stream",
          "name": "stderr",
          "text": [
            "Epoch 19/50 (Train): 100%|██████████| 359/359 [00:13<00:00, 26.10it/s]\n",
            "Epoch 19/50 (Val): 100%|██████████| 90/90 [00:01<00:00, 59.99it/s]\n"
          ]
        },
        {
          "output_type": "stream",
          "name": "stdout",
          "text": [
            "Epoch 19/50 - Train Loss: 0.9795, Train Acc: 0.6305, Val Loss: 0.9326, Val Acc: 0.6480\n"
          ]
        },
        {
          "output_type": "stream",
          "name": "stderr",
          "text": [
            "Epoch 20/50 (Train): 100%|██████████| 359/359 [00:14<00:00, 25.30it/s]\n",
            "Epoch 20/50 (Val): 100%|██████████| 90/90 [00:01<00:00, 60.32it/s]\n"
          ]
        },
        {
          "output_type": "stream",
          "name": "stdout",
          "text": [
            "Epoch 20/50 - Train Loss: 0.9761, Train Acc: 0.6335, Val Loss: 0.9209, Val Acc: 0.6588\n",
            "Best validation accuracy achieved. Model saved.\n"
          ]
        },
        {
          "output_type": "stream",
          "name": "stderr",
          "text": [
            "Epoch 21/50 (Train): 100%|██████████| 359/359 [00:13<00:00, 26.24it/s]\n",
            "Epoch 21/50 (Val): 100%|██████████| 90/90 [00:01<00:00, 60.66it/s]\n"
          ]
        },
        {
          "output_type": "stream",
          "name": "stdout",
          "text": [
            "Epoch 21/50 - Train Loss: 0.9668, Train Acc: 0.6333, Val Loss: 0.9158, Val Acc: 0.6587\n"
          ]
        },
        {
          "output_type": "stream",
          "name": "stderr",
          "text": [
            "Epoch 22/50 (Train): 100%|██████████| 359/359 [00:13<00:00, 26.11it/s]\n",
            "Epoch 22/50 (Val): 100%|██████████| 90/90 [00:01<00:00, 59.74it/s]\n"
          ]
        },
        {
          "output_type": "stream",
          "name": "stdout",
          "text": [
            "Epoch 22/50 - Train Loss: 0.9606, Train Acc: 0.6364, Val Loss: 0.9015, Val Acc: 0.6609\n",
            "Best validation accuracy achieved. Model saved.\n"
          ]
        },
        {
          "output_type": "stream",
          "name": "stderr",
          "text": [
            "Epoch 23/50 (Train): 100%|██████████| 359/359 [00:13<00:00, 26.50it/s]\n",
            "Epoch 23/50 (Val): 100%|██████████| 90/90 [00:01<00:00, 59.17it/s]\n"
          ]
        },
        {
          "output_type": "stream",
          "name": "stdout",
          "text": [
            "Epoch 23/50 - Train Loss: 0.9477, Train Acc: 0.6448, Val Loss: 0.9086, Val Acc: 0.6569\n"
          ]
        },
        {
          "output_type": "stream",
          "name": "stderr",
          "text": [
            "Epoch 24/50 (Train): 100%|██████████| 359/359 [00:13<00:00, 25.90it/s]\n",
            "Epoch 24/50 (Val): 100%|██████████| 90/90 [00:01<00:00, 58.12it/s]\n"
          ]
        },
        {
          "output_type": "stream",
          "name": "stdout",
          "text": [
            "Epoch 24/50 - Train Loss: 0.9369, Train Acc: 0.6474, Val Loss: 0.9135, Val Acc: 0.6574\n"
          ]
        },
        {
          "output_type": "stream",
          "name": "stderr",
          "text": [
            "Epoch 25/50 (Train): 100%|██████████| 359/359 [00:13<00:00, 26.34it/s]\n",
            "Epoch 25/50 (Val): 100%|██████████| 90/90 [00:01<00:00, 59.15it/s]\n"
          ]
        },
        {
          "output_type": "stream",
          "name": "stdout",
          "text": [
            "Epoch 25/50 - Train Loss: 0.9367, Train Acc: 0.6486, Val Loss: 0.9066, Val Acc: 0.6625\n",
            "Best validation accuracy achieved. Model saved.\n"
          ]
        },
        {
          "output_type": "stream",
          "name": "stderr",
          "text": [
            "Epoch 26/50 (Train): 100%|██████████| 359/359 [00:13<00:00, 25.96it/s]\n",
            "Epoch 26/50 (Val): 100%|██████████| 90/90 [00:01<00:00, 49.10it/s]\n"
          ]
        },
        {
          "output_type": "stream",
          "name": "stdout",
          "text": [
            "Epoch 26/50 - Train Loss: 0.9214, Train Acc: 0.6574, Val Loss: 0.9151, Val Acc: 0.6571\n"
          ]
        },
        {
          "output_type": "stream",
          "name": "stderr",
          "text": [
            "Epoch 27/50 (Train): 100%|██████████| 359/359 [00:13<00:00, 26.75it/s]\n",
            "Epoch 27/50 (Val): 100%|██████████| 90/90 [00:02<00:00, 40.48it/s]\n"
          ]
        },
        {
          "output_type": "stream",
          "name": "stdout",
          "text": [
            "Epoch 27/50 - Train Loss: 0.9128, Train Acc: 0.6555, Val Loss: 0.9090, Val Acc: 0.6628\n",
            "Best validation accuracy achieved. Model saved.\n"
          ]
        },
        {
          "output_type": "stream",
          "name": "stderr",
          "text": [
            "Epoch 28/50 (Train): 100%|██████████| 359/359 [00:13<00:00, 26.89it/s]\n",
            "Epoch 28/50 (Val): 100%|██████████| 90/90 [00:02<00:00, 38.54it/s]\n"
          ]
        },
        {
          "output_type": "stream",
          "name": "stdout",
          "text": [
            "Epoch 28/50 - Train Loss: 0.9058, Train Acc: 0.6603, Val Loss: 0.9067, Val Acc: 0.6604\n"
          ]
        },
        {
          "output_type": "stream",
          "name": "stderr",
          "text": [
            "Epoch 29/50 (Train): 100%|██████████| 359/359 [00:13<00:00, 26.96it/s]\n",
            "Epoch 29/50 (Val): 100%|██████████| 90/90 [00:02<00:00, 38.37it/s]\n"
          ]
        },
        {
          "output_type": "stream",
          "name": "stdout",
          "text": [
            "Epoch 29/50 - Train Loss: 0.8905, Train Acc: 0.6632, Val Loss: 0.9160, Val Acc: 0.6592\n"
          ]
        },
        {
          "output_type": "stream",
          "name": "stderr",
          "text": [
            "Epoch 30/50 (Train): 100%|██████████| 359/359 [00:13<00:00, 26.94it/s]\n",
            "Epoch 30/50 (Val): 100%|██████████| 90/90 [00:01<00:00, 45.02it/s]\n"
          ]
        },
        {
          "output_type": "stream",
          "name": "stdout",
          "text": [
            "Epoch 30/50 - Train Loss: 0.8897, Train Acc: 0.6663, Val Loss: 0.8870, Val Acc: 0.6667\n",
            "Best validation accuracy achieved. Model saved.\n"
          ]
        },
        {
          "output_type": "stream",
          "name": "stderr",
          "text": [
            "Epoch 31/50 (Train): 100%|██████████| 359/359 [00:13<00:00, 26.18it/s]\n",
            "Epoch 31/50 (Val): 100%|██████████| 90/90 [00:01<00:00, 60.47it/s]\n"
          ]
        },
        {
          "output_type": "stream",
          "name": "stdout",
          "text": [
            "Epoch 31/50 - Train Loss: 0.8860, Train Acc: 0.6691, Val Loss: 0.8894, Val Acc: 0.6681\n",
            "Best validation accuracy achieved. Model saved.\n"
          ]
        },
        {
          "output_type": "stream",
          "name": "stderr",
          "text": [
            "Epoch 32/50 (Train): 100%|██████████| 359/359 [00:13<00:00, 26.25it/s]\n",
            "Epoch 32/50 (Val): 100%|██████████| 90/90 [00:01<00:00, 60.17it/s]\n"
          ]
        },
        {
          "output_type": "stream",
          "name": "stdout",
          "text": [
            "Epoch 32/50 - Train Loss: 0.8717, Train Acc: 0.6735, Val Loss: 0.8838, Val Acc: 0.6708\n",
            "Best validation accuracy achieved. Model saved.\n"
          ]
        },
        {
          "output_type": "stream",
          "name": "stderr",
          "text": [
            "Epoch 33/50 (Train): 100%|██████████| 359/359 [00:13<00:00, 26.03it/s]\n",
            "Epoch 33/50 (Val): 100%|██████████| 90/90 [00:01<00:00, 60.90it/s]\n"
          ]
        },
        {
          "output_type": "stream",
          "name": "stdout",
          "text": [
            "Epoch 33/50 - Train Loss: 0.8614, Train Acc: 0.6781, Val Loss: 0.8820, Val Acc: 0.6724\n",
            "Best validation accuracy achieved. Model saved.\n"
          ]
        },
        {
          "output_type": "stream",
          "name": "stderr",
          "text": [
            "Epoch 34/50 (Train): 100%|██████████| 359/359 [00:13<00:00, 26.14it/s]\n",
            "Epoch 34/50 (Val): 100%|██████████| 90/90 [00:01<00:00, 58.69it/s]\n"
          ]
        },
        {
          "output_type": "stream",
          "name": "stdout",
          "text": [
            "Epoch 34/50 - Train Loss: 0.8532, Train Acc: 0.6780, Val Loss: 0.8918, Val Acc: 0.6686\n"
          ]
        },
        {
          "output_type": "stream",
          "name": "stderr",
          "text": [
            "Epoch 35/50 (Train): 100%|██████████| 359/359 [00:13<00:00, 26.24it/s]\n",
            "Epoch 35/50 (Val): 100%|██████████| 90/90 [00:01<00:00, 59.35it/s]\n"
          ]
        },
        {
          "output_type": "stream",
          "name": "stdout",
          "text": [
            "Epoch 35/50 - Train Loss: 0.8516, Train Acc: 0.6806, Val Loss: 0.9329, Val Acc: 0.6651\n"
          ]
        },
        {
          "output_type": "stream",
          "name": "stderr",
          "text": [
            "Epoch 36/50 (Train): 100%|██████████| 359/359 [00:13<00:00, 26.31it/s]\n",
            "Epoch 36/50 (Val): 100%|██████████| 90/90 [00:01<00:00, 59.90it/s]\n"
          ]
        },
        {
          "output_type": "stream",
          "name": "stdout",
          "text": [
            "Epoch 36/50 - Train Loss: 0.8352, Train Acc: 0.6865, Val Loss: 0.8830, Val Acc: 0.6714\n"
          ]
        },
        {
          "output_type": "stream",
          "name": "stderr",
          "text": [
            "Epoch 37/50 (Train): 100%|██████████| 359/359 [00:13<00:00, 26.33it/s]\n",
            "Epoch 37/50 (Val): 100%|██████████| 90/90 [00:01<00:00, 60.55it/s]\n"
          ]
        },
        {
          "output_type": "stream",
          "name": "stdout",
          "text": [
            "Epoch 37/50 - Train Loss: 0.8320, Train Acc: 0.6871, Val Loss: 0.9012, Val Acc: 0.6733\n",
            "Best validation accuracy achieved. Model saved.\n"
          ]
        },
        {
          "output_type": "stream",
          "name": "stderr",
          "text": [
            "Epoch 38/50 (Train): 100%|██████████| 359/359 [00:13<00:00, 26.04it/s]\n",
            "Epoch 38/50 (Val): 100%|██████████| 90/90 [00:01<00:00, 60.29it/s]\n"
          ]
        },
        {
          "output_type": "stream",
          "name": "stdout",
          "text": [
            "Epoch 38/50 - Train Loss: 0.8297, Train Acc: 0.6837, Val Loss: 0.8985, Val Acc: 0.6743\n",
            "Best validation accuracy achieved. Model saved.\n"
          ]
        },
        {
          "output_type": "stream",
          "name": "stderr",
          "text": [
            "Epoch 39/50 (Train): 100%|██████████| 359/359 [00:13<00:00, 25.93it/s]\n",
            "Epoch 39/50 (Val): 100%|██████████| 90/90 [00:01<00:00, 60.30it/s]\n"
          ]
        },
        {
          "output_type": "stream",
          "name": "stdout",
          "text": [
            "Epoch 39/50 - Train Loss: 0.8189, Train Acc: 0.6924, Val Loss: 0.8941, Val Acc: 0.6733\n"
          ]
        },
        {
          "output_type": "stream",
          "name": "stderr",
          "text": [
            "Epoch 40/50 (Train): 100%|██████████| 359/359 [00:13<00:00, 25.91it/s]\n",
            "Epoch 40/50 (Val): 100%|██████████| 90/90 [00:01<00:00, 60.13it/s]\n"
          ]
        },
        {
          "output_type": "stream",
          "name": "stdout",
          "text": [
            "Epoch 40/50 - Train Loss: 0.8130, Train Acc: 0.6967, Val Loss: 0.9221, Val Acc: 0.6712\n"
          ]
        },
        {
          "output_type": "stream",
          "name": "stderr",
          "text": [
            "Epoch 41/50 (Train): 100%|██████████| 359/359 [00:13<00:00, 26.19it/s]\n",
            "Epoch 41/50 (Val): 100%|██████████| 90/90 [00:01<00:00, 59.86it/s]\n"
          ]
        },
        {
          "output_type": "stream",
          "name": "stdout",
          "text": [
            "Epoch 41/50 - Train Loss: 0.8106, Train Acc: 0.6963, Val Loss: 0.8873, Val Acc: 0.6762\n",
            "Best validation accuracy achieved. Model saved.\n"
          ]
        },
        {
          "output_type": "stream",
          "name": "stderr",
          "text": [
            "Epoch 42/50 (Train): 100%|██████████| 359/359 [00:13<00:00, 26.36it/s]\n",
            "Epoch 42/50 (Val): 100%|██████████| 90/90 [00:01<00:00, 59.88it/s]\n"
          ]
        },
        {
          "output_type": "stream",
          "name": "stdout",
          "text": [
            "Epoch 42/50 - Train Loss: 0.7906, Train Acc: 0.7052, Val Loss: 0.9078, Val Acc: 0.6684\n"
          ]
        },
        {
          "output_type": "stream",
          "name": "stderr",
          "text": [
            "Epoch 43/50 (Train): 100%|██████████| 359/359 [00:13<00:00, 26.08it/s]\n",
            "Epoch 43/50 (Val): 100%|██████████| 90/90 [00:01<00:00, 59.97it/s]\n"
          ]
        },
        {
          "output_type": "stream",
          "name": "stdout",
          "text": [
            "Epoch 43/50 - Train Loss: 0.7907, Train Acc: 0.7036, Val Loss: 0.8860, Val Acc: 0.6797\n",
            "Best validation accuracy achieved. Model saved.\n"
          ]
        },
        {
          "output_type": "stream",
          "name": "stderr",
          "text": [
            "Epoch 44/50 (Train): 100%|██████████| 359/359 [00:13<00:00, 26.27it/s]\n",
            "Epoch 44/50 (Val): 100%|██████████| 90/90 [00:01<00:00, 59.67it/s]\n"
          ]
        },
        {
          "output_type": "stream",
          "name": "stdout",
          "text": [
            "Epoch 44/50 - Train Loss: 0.7851, Train Acc: 0.7068, Val Loss: 0.8967, Val Acc: 0.6712\n"
          ]
        },
        {
          "output_type": "stream",
          "name": "stderr",
          "text": [
            "Epoch 45/50 (Train): 100%|██████████| 359/359 [00:13<00:00, 26.02it/s]\n",
            "Epoch 45/50 (Val): 100%|██████████| 90/90 [00:01<00:00, 55.48it/s]\n"
          ]
        },
        {
          "output_type": "stream",
          "name": "stdout",
          "text": [
            "Epoch 45/50 - Train Loss: 0.7860, Train Acc: 0.7039, Val Loss: 0.8955, Val Acc: 0.6775\n"
          ]
        },
        {
          "output_type": "stream",
          "name": "stderr",
          "text": [
            "Epoch 46/50 (Train): 100%|██████████| 359/359 [00:13<00:00, 26.52it/s]\n",
            "Epoch 46/50 (Val): 100%|██████████| 90/90 [00:01<00:00, 50.39it/s]\n"
          ]
        },
        {
          "output_type": "stream",
          "name": "stdout",
          "text": [
            "Epoch 46/50 - Train Loss: 0.7703, Train Acc: 0.7115, Val Loss: 0.9027, Val Acc: 0.6761\n"
          ]
        },
        {
          "output_type": "stream",
          "name": "stderr",
          "text": [
            "Epoch 47/50 (Train): 100%|██████████| 359/359 [00:13<00:00, 26.67it/s]\n",
            "Epoch 47/50 (Val): 100%|██████████| 90/90 [00:02<00:00, 44.54it/s]\n"
          ]
        },
        {
          "output_type": "stream",
          "name": "stdout",
          "text": [
            "Epoch 47/50 - Train Loss: 0.7657, Train Acc: 0.7123, Val Loss: 0.9015, Val Acc: 0.6755\n"
          ]
        },
        {
          "output_type": "stream",
          "name": "stderr",
          "text": [
            "Epoch 48/50 (Train): 100%|██████████| 359/359 [00:13<00:00, 27.27it/s]\n",
            "Epoch 48/50 (Val): 100%|██████████| 90/90 [00:02<00:00, 39.23it/s]\n"
          ]
        },
        {
          "output_type": "stream",
          "name": "stdout",
          "text": [
            "Epoch 48/50 - Train Loss: 0.7559, Train Acc: 0.7189, Val Loss: 0.8855, Val Acc: 0.6823\n",
            "Best validation accuracy achieved. Model saved.\n"
          ]
        },
        {
          "output_type": "stream",
          "name": "stderr",
          "text": [
            "Epoch 49/50 (Train): 100%|██████████| 359/359 [00:13<00:00, 27.10it/s]\n",
            "Epoch 49/50 (Val): 100%|██████████| 90/90 [00:02<00:00, 37.76it/s]\n"
          ]
        },
        {
          "output_type": "stream",
          "name": "stdout",
          "text": [
            "Epoch 49/50 - Train Loss: 0.7534, Train Acc: 0.7187, Val Loss: 0.9127, Val Acc: 0.6768\n"
          ]
        },
        {
          "output_type": "stream",
          "name": "stderr",
          "text": [
            "Epoch 50/50 (Train): 100%|██████████| 359/359 [00:13<00:00, 27.02it/s]\n",
            "Epoch 50/50 (Val): 100%|██████████| 90/90 [00:02<00:00, 41.43it/s]"
          ]
        },
        {
          "output_type": "stream",
          "name": "stdout",
          "text": [
            "Epoch 50/50 - Train Loss: 0.7440, Train Acc: 0.7219, Val Loss: 0.9121, Val Acc: 0.6778\n"
          ]
        },
        {
          "output_type": "stream",
          "name": "stderr",
          "text": [
            "\n"
          ]
        }
      ]
    },
    {
      "cell_type": "code",
      "source": [
        "# Cell 8: Model Evaluation (on Validation Set)\n",
        "# Load the best model\n",
        "model.load_state_dict(torch.load('best_model.pth'))\n",
        "model.eval()\n",
        "\n",
        "all_preds = []\n",
        "all_labels = []\n",
        "\n",
        "with torch.no_grad():\n",
        "    for images, labels in tqdm(val_loader, desc=\"Evaluating on Validation Set\"):\n",
        "        images, labels = images.to(device), labels.to(device)\n",
        "        outputs = model(images)\n",
        "        _, predicted = torch.max(outputs, 1)\n",
        "\n",
        "        all_preds.extend(predicted.cpu().numpy())\n",
        "        all_labels.extend(labels.cpu().numpy())\n",
        "\n",
        "val_accuracy = accuracy_score(all_labels, all_preds)\n",
        "print(f\"\\nValidation Accuracy: {val_accuracy:.4f}\")\n",
        "\n",
        "print(\"\\nClassification Report:\")\n",
        "print(classification_report(all_labels, all_preds, target_names=emotion_labels))\n",
        "\n",
        "# Confusion Matrix\n",
        "conf_matrix = confusion_matrix(all_labels, all_preds)\n",
        "plt.figure(figsize=(10, 8))\n",
        "sns.heatmap(conf_matrix, annot=True, fmt='d', cmap='Blues', xticklabels=emotion_labels, yticklabels=emotion_labels)\n",
        "plt.xlabel('Predicted Label')\n",
        "plt.ylabel('True Label')\n",
        "plt.title('Confusion Matrix for Validation Set')\n",
        "plt.show()"
      ],
      "metadata": {
        "colab": {
          "base_uri": "https://localhost:8080/",
          "height": 1000
        },
        "id": "IsbhU-YT7lle",
        "outputId": "86d4720e-ce95-41a3-a4ec-14aa426fbbe0"
      },
      "execution_count": 14,
      "outputs": [
        {
          "output_type": "stream",
          "name": "stderr",
          "text": [
            "Evaluating on Validation Set: 100%|██████████| 90/90 [00:03<00:00, 28.75it/s]\n"
          ]
        },
        {
          "output_type": "stream",
          "name": "stdout",
          "text": [
            "\n",
            "Validation Accuracy: 0.6823\n",
            "\n",
            "Classification Report:\n",
            "              precision    recall  f1-score   support\n",
            "\n",
            "       Angry       0.62      0.58      0.60       799\n",
            "     Disgust       0.79      0.53      0.63        87\n",
            "        Fear       0.57      0.47      0.52       820\n",
            "       Happy       0.89      0.88      0.89      1443\n",
            "         Sad       0.55      0.58      0.57       966\n",
            "    Surprise       0.74      0.81      0.77       634\n",
            "     Neutral       0.61      0.68      0.64       993\n",
            "\n",
            "    accuracy                           0.68      5742\n",
            "   macro avg       0.68      0.65      0.66      5742\n",
            "weighted avg       0.68      0.68      0.68      5742\n",
            "\n"
          ]
        },
        {
          "output_type": "display_data",
          "data": {
            "text/plain": [
              "<Figure size 1000x800 with 2 Axes>"
            ],
            "image/png": "[encoded data removed]"
          },
          "metadata": {}
        }
      ]
    },
    {
      "cell_type": "code",
      "source": [
        "import wandb\n",
        "\n",
        "# Start a new wandb run to track this model\n",
        "run = wandb.init(\n",
        "    # Set your wandb entity (replace with your username)\n",
        "    entity=\"zeliz22-free-university-of-tbilisi-\",\n",
        "    # Set the wandb project\n",
        "    project=\"Facial Expression Recognition Challenge\",\n",
        "    name=\"AdvancedEmotionNet\",\n",
        "    # Add tags to organize runs\n",
        "    tags=[\"CNN\", \"facial-expression\", \"pytorch\", \"BatchNormalization\"],\n",
        "    # Track hyperparameters and run metadata\n",
        "    config={\n",
        "        \"architecture\": \"CNN\",\n",
        "        \"dataset\": \"FER2013\",\n",
        "        \"epochs\": epochs,\n",
        "        \"learning_rate\": learning_rate,\n",
        "        \"optimizer\": \"Adam\",\n",
        "        \"batch_size\": batch_size,\n",
        "        \"epochs\": 50,\n",
        "        \"image_size\": \"48x48\",\n",
        "    }\n",
        ")\n",
        "\n",
        "# Count model parameters\n",
        "total_params = sum(p.numel() for p in model.parameters())\n",
        "trainable_params = sum(p.numel() for p in model.parameters() if p.requires_grad)\n",
        "\n",
        "# Log the final model results based on your training output\n",
        "run.log({\n",
        "    \"final_train_accuracy\": 0.72,  # From your results: Train Acc: 60.90%\n",
        "    \"final_train_loss\": 0.74,     # From your results: Train Loss: 1.0504\n",
        "    \"final_val_accuracy\": 0.68,    # From your results: Val Acc: 62.03%\n",
        "    \"final_val_loss\": 0.91,       # From your results: Val Loss: 1.0073\n",
        "    \"total_parameters\": total_params,\n",
        "    \"trainable_parameters\": trainable_params,\n",
        "    \"steps_per_epoch\": len(train_loader),  # 359 batches as shown in your output\n",
        "})\n",
        "\n",
        "# Finish the run\n",
        "run.finish()\n",
        "\n",
        "print(\"Model results logged to WandB successfully!\")"
      ],
      "metadata": {
        "colab": {
          "base_uri": "https://localhost:8080/",
          "height": 728
        },
        "id": "rw3qBXbH9Y6V",
        "outputId": "c9a9ba73-cfbf-4183-b7a1-05b621e57753"
      },
      "execution_count": 15,
      "outputs": [
        {
          "output_type": "stream",
          "name": "stderr",
          "text": [
            "\u001b[34m\u001b[1mwandb\u001b[0m: Currently logged in as: \u001b[33mzeliz22\u001b[0m (\u001b[33mzeliz22-free-university-of-tbilisi-\u001b[0m) to \u001b[32mhttps://api.wandb.ai\u001b[0m. Use \u001b[1m`wandb login --relogin`\u001b[0m to force relogin\n"
          ]
        },
        {
          "output_type": "display_data",
          "data": {
            "text/plain": [
              "<IPython.core.display.HTML object>"
            ],
            "text/html": [
              "Tracking run with wandb version 0.19.11"
            ]
          },
          "metadata": {}
        },
        {
          "output_type": "display_data",
          "data": {
            "text/plain": [
              "<IPython.core.display.HTML object>"
            ],
            "text/html": [
              "Run data is saved locally in <code>/content/wandb/run-20250607_213916-5qierq3z</code>"
            ]
          },
          "metadata": {}
        },
        {
          "output_type": "display_data",
          "data": {
            "text/plain": [
              "<IPython.core.display.HTML object>"
            ],
            "text/html": [
              "Syncing run <strong><a href='https://wandb.ai/zeliz22-free-university-of-tbilisi-/Facial%20Expression%20Recognition%20Challenge/runs/5qierq3z' target=\"_blank\">AdvancedEmotionNet</a></strong> to <a href='https://wandb.ai/zeliz22-free-university-of-tbilisi-/Facial%20Expression%20Recognition%20Challenge' target=\"_blank\">Weights & Biases</a> (<a href='https://wandb.me/developer-guide' target=\"_blank\">docs</a>)<br>"
            ]
          },
          "metadata": {}
        },
        {
          "output_type": "display_data",
          "data": {
            "text/plain": [
              "<IPython.core.display.HTML object>"
            ],
            "text/html": [
              " View project at <a href='https://wandb.ai/zeliz22-free-university-of-tbilisi-/Facial%20Expression%20Recognition%20Challenge' target=\"_blank\">https://wandb.ai/zeliz22-free-university-of-tbilisi-/Facial%20Expression%20Recognition%20Challenge</a>"
            ]
          },
          "metadata": {}
        },
        {
          "output_type": "display_data",
          "data": {
            "text/plain": [
              "<IPython.core.display.HTML object>"
            ],
            "text/html": [
              " View run at <a href='https://wandb.ai/zeliz22-free-university-of-tbilisi-/Facial%20Expression%20Recognition%20Challenge/runs/5qierq3z' target=\"_blank\">https://wandb.ai/zeliz22-free-university-of-tbilisi-/Facial%20Expression%20Recognition%20Challenge/runs/5qierq3z</a>"
            ]
          },
          "metadata": {}
        },
        {
          "output_type": "display_data",
          "data": {
            "text/plain": [
              "<IPython.core.display.HTML object>"
            ],
            "text/html": []
          },
          "metadata": {}
        },
        {
          "output_type": "display_data",
          "data": {
            "text/plain": [
              "<IPython.core.display.HTML object>"
            ],
            "text/html": [
              "<br>    <style><br>        .wandb-row {<br>            display: flex;<br>            flex-direction: row;<br>            flex-wrap: wrap;<br>            justify-content: flex-start;<br>            width: 100%;<br>        }<br>        .wandb-col {<br>            display: flex;<br>            flex-direction: column;<br>            flex-basis: 100%;<br>            flex: 1;<br>            padding: 10px;<br>        }<br>    </style><br><div class=\"wandb-row\"><div class=\"wandb-col\"><h3>Run history:</h3><br/><table class=\"wandb\"><tr><td>final_train_accuracy</td><td>▁</td></tr><tr><td>final_train_loss</td><td>▁</td></tr><tr><td>final_val_accuracy</td><td>▁</td></tr><tr><td>final_val_loss</td><td>▁</td></tr><tr><td>steps_per_epoch</td><td>▁</td></tr><tr><td>total_parameters</td><td>▁</td></tr><tr><td>trainable_parameters</td><td>▁</td></tr></table><br/></div><div class=\"wandb-col\"><h3>Run summary:</h3><br/><table class=\"wandb\"><tr><td>final_train_accuracy</td><td>0.72</td></tr><tr><td>final_train_loss</td><td>0.74</td></tr><tr><td>final_val_accuracy</td><td>0.68</td></tr><tr><td>final_val_loss</td><td>0.91</td></tr><tr><td>steps_per_epoch</td><td>359</td></tr><tr><td>total_parameters</td><td>5850951</td></tr><tr><td>trainable_parameters</td><td>5850951</td></tr></table><br/></div></div>"
            ]
          },
          "metadata": {}
        },
        {
          "output_type": "display_data",
          "data": {
            "text/plain": [
              "<IPython.core.display.HTML object>"
            ],
            "text/html": [
              " View run <strong style=\"color:#cdcd00\">AdvancedEmotionNet</strong> at: <a href='https://wandb.ai/zeliz22-free-university-of-tbilisi-/Facial%20Expression%20Recognition%20Challenge/runs/5qierq3z' target=\"_blank\">https://wandb.ai/zeliz22-free-university-of-tbilisi-/Facial%20Expression%20Recognition%20Challenge/runs/5qierq3z</a><br> View project at: <a href='https://wandb.ai/zeliz22-free-university-of-tbilisi-/Facial%20Expression%20Recognition%20Challenge' target=\"_blank\">https://wandb.ai/zeliz22-free-university-of-tbilisi-/Facial%20Expression%20Recognition%20Challenge</a><br>Synced 5 W&B file(s), 0 media file(s), 0 artifact file(s) and 0 other file(s)"
            ]
          },
          "metadata": {}
        },
        {
          "output_type": "display_data",
          "data": {
            "text/plain": [
              "<IPython.core.display.HTML object>"
            ],
            "text/html": [
              "Find logs at: <code>./wandb/run-20250607_213916-5qierq3z/logs</code>"
            ]
          },
          "metadata": {}
        },
        {
          "output_type": "stream",
          "name": "stdout",
          "text": [
            "Model results logged to WandB successfully!\n"
          ]
        }
      ]
    }
  ]
}